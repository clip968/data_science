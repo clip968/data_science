{
 "cells": [
  {
   "cell_type": "code",
   "execution_count": 67,
   "metadata": {},
   "outputs": [
    {
     "name": "stdout",
     "output_type": "stream",
     "text": [
      "tensor([[[[1., 2.],\n",
      "          [3., 4.]],\n",
      "\n",
      "         [[1., 2.],\n",
      "          [3., 4.]],\n",
      "\n",
      "         [[1., 2.],\n",
      "          [3., 4.]]]])\n",
      "torch.Size([1, 3, 2, 2])\n"
     ]
    }
   ],
   "source": [
    "import torch\n",
    "\n",
    "# x = torch.tensor([[1, 2, 3] ,[4, 5, 6], [7, 8, 9]])\n",
    "x = torch.FloatTensor([[1, 2, 3] ,[4, 5, 6], [7, 8, 9]])\n",
    "y = torch.FloatTensor([[[1,2], [3,4]], [[1, 2], [3, 4]], [[1, 2], [3, 4]]])\n",
    "# print(x.type())\n",
    "# print(x)\n",
    "\n",
    "# print(x.size())\n",
    "# print(x.shape)\n",
    "# print(x.ndimension())\n",
    "\n",
    "# print(y.shape)\n",
    "# print(y)\n",
    "y0 = y.unsqueeze(0) #[3, 2, 2] --> [1, 3, 2, 2]\n",
    "y1 = y.unsqueeze(1) #[3, 2, 2] --> [3, 1, 2, 2]\n",
    "y2 = y.unsqueeze(2) #[3, 2, 2] --> [3, 2, 1, 2]\n",
    "y3 = y.unsqueeze(3) #[3, 2, 2] --> [3, 2, 2, 1]\n",
    "\n",
    "print(y0)\n",
    "print(y0.shape)\n",
    "# print(y.ndimension())\n",
    "# print(len(y.shape))"
   ]
  },
  {
   "cell_type": "code",
   "execution_count": 68,
   "metadata": {},
   "outputs": [
    {
     "name": "stdout",
     "output_type": "stream",
     "text": [
      "torch.Size([3, 2, 2])\n",
      "torch.Size([3, 2, 2])\n",
      "torch.Size([3, 2, 2])\n",
      "torch.Size([3, 2, 2])\n"
     ]
    }
   ],
   "source": [
    "y3.shape\n",
    "print(y3.squeeze().shape)\n",
    "print(y2.squeeze().shape)\n",
    "print(y1.squeeze().shape)\n",
    "print(y1.squeeze().shape)"
   ]
  },
  {
   "cell_type": "code",
   "execution_count": 69,
   "metadata": {},
   "outputs": [
    {
     "name": "stdout",
     "output_type": "stream",
     "text": [
      "torch.Size([3, 2, 2])\n"
     ]
    }
   ],
   "source": [
    "y.shape\n",
    "\n",
    "yt = y.unsqueeze(0).unsqueeze(1).unsqueeze(0).unsqueeze(5)   \n",
    "# 1, 1, 1, 3, 2, 1, 2\n",
    "#unsqueeze -> 차원 확장\n",
    "#squeeze -> 확장된 차원 축소\n",
    "print(yt.squeeze().shape)"
   ]
  },
  {
   "cell_type": "code",
   "execution_count": 70,
   "metadata": {},
   "outputs": [
    {
     "data": {
      "text/plain": [
       "tensor([[[1., 2., 3., 4.]],\n",
       "\n",
       "        [[1., 2., 3., 4.]],\n",
       "\n",
       "        [[1., 2., 3., 4.]]])"
      ]
     },
     "execution_count": 70,
     "metadata": {},
     "output_type": "execute_result"
    }
   ],
   "source": [
    "# y.view(12)\n",
    "y.view(3, 1, -1)"
   ]
  },
  {
   "cell_type": "code",
   "execution_count": 71,
   "metadata": {},
   "outputs": [
    {
     "name": "stdout",
     "output_type": "stream",
     "text": [
      "tensor([[-0.9799],\n",
      "        [-1.0862],\n",
      "        [ 0.5211]])\n"
     ]
    }
   ],
   "source": [
    "x = torch.FloatTensor([[1, 2], [3,4], [5,6]])\n",
    "w = torch.randn(1, 2, dtype=torch.float)\n",
    "b = torch.randn(3, 1, dtype=torch.float)   \n",
    "\n",
    "print(torch.mm(x, w.T) + b)\n",
    "#x @ w.T\n",
    "#torch.t(w) == w.T\n",
    "\n",
    "# print(x)\n",
    "# print(w)\n",
    "# print(b)"
   ]
  },
  {
   "cell_type": "code",
   "execution_count": 72,
   "metadata": {},
   "outputs": [
    {
     "name": "stdout",
     "output_type": "stream",
     "text": [
      "tensor(72.)\n"
     ]
    }
   ],
   "source": [
    "w = torch.tensor(4.0, requires_grad=True)\n",
    "a = w * 3\n",
    "l = a ** 2\n",
    "l.backward()\n",
    "print(w.grad)"
   ]
  },
  {
   "cell_type": "code",
   "execution_count": 73,
   "metadata": {},
   "outputs": [
    {
     "name": "stdout",
     "output_type": "stream",
     "text": [
      "tensor([[-0.2902],\n",
      "        [-0.9983]]) tensor([0.3880])\n"
     ]
    }
   ],
   "source": [
    "x_train = torch.FloatTensor([[1, 2], [3, 2], [3, 7], [1, 1], [1, 0]])\n",
    "y_train = torch.FloatTensor([[4], [8], [23], [1], [-2]])\n",
    "w = torch.randn(2, 1)\n",
    "b = torch.randn(1)\n",
    "print(w, b)\n",
    "\n",
    "lr = 0.01"
   ]
  },
  {
   "cell_type": "code",
   "execution_count": 74,
   "metadata": {},
   "outputs": [
    {
     "name": "stdout",
     "output_type": "stream",
     "text": [
      "0 216.212890625 tensor([ 0.2240, -0.0065]) tensor([0.5746])\n",
      "100 1.8527696132659912 tensor([0.5182, 3.1579]) tensor([-1.1036])\n",
      "200 0.9061395525932312 tensor([0.8160, 3.2018]) tensor([-2.0077])\n",
      "300 0.4650907516479492 tensor([1.1374, 3.1547]) tensor([-2.5813])\n",
      "400 0.2390110194683075 tensor([1.3801, 3.1120]) tensor([-2.9841])\n",
      "500 0.12283197790384293 tensor([1.5554, 3.0805]) tensor([-3.2718])\n",
      "600 0.06312540173530579 tensor([1.6813, 3.0577]) tensor([-3.4780])\n",
      "700 0.03244142606854439 tensor([1.7715, 3.0414]) tensor([-3.6258])\n",
      "800 0.016672275960445404 tensor([1.8362, 3.0296]) tensor([-3.7317])\n",
      "900 0.008568158373236656 tensor([1.8826, 3.0213]) tensor([-3.8077])\n",
      "1000 0.00440332992002368 tensor([1.9158, 3.0152]) tensor([-3.8621])\n",
      "1100 0.00226295692846179 tensor([1.9396, 3.0109]) tensor([-3.9012])\n",
      "1200 0.0011629766086116433 tensor([1.9567, 3.0078]) tensor([-3.9291])\n",
      "1300 0.0005976621760055423 tensor([1.9690, 3.0056]) tensor([-3.9492])\n",
      "1400 0.00030716165201738477 tensor([1.9778, 3.0040]) tensor([-3.9636])\n",
      "1500 0.00015786048606969416 tensor([1.9841, 3.0029]) tensor([-3.9739])\n",
      "1600 8.113068906823173e-05 tensor([1.9886, 3.0021]) tensor([-3.9813])\n",
      "1700 4.169571184320375e-05 tensor([1.9918, 3.0015]) tensor([-3.9866])\n",
      "1800 2.1425934392027557e-05 tensor([1.9941, 3.0011]) tensor([-3.9904])\n",
      "1900 1.101099951483775e-05 tensor([1.9958, 3.0008]) tensor([-3.9931])\n",
      "2000 5.65876325708814e-06 tensor([1.9970, 3.0005]) tensor([-3.9951])\n",
      "2100 2.90816160486429e-06 tensor([1.9978, 3.0004]) tensor([-3.9965])\n",
      "2200 1.495354240432789e-06 tensor([1.9984, 3.0003]) tensor([-3.9975])\n",
      "2300 7.680241651542019e-07 tensor([1.9989, 3.0002]) tensor([-3.9982])\n",
      "2400 3.951891756059922e-07 tensor([1.9992, 3.0001]) tensor([-3.9987])\n",
      "2500 2.0307656711793243e-07 tensor([1.9994, 3.0001]) tensor([-3.9991])\n",
      "2600 1.0459459787170999e-07 tensor([1.9996, 3.0001]) tensor([-3.9993])\n",
      "2700 5.387357759900624e-08 tensor([1.9997, 3.0001]) tensor([-3.9995])\n",
      "2800 2.788653219454318e-08 tensor([1.9998, 3.0000]) tensor([-3.9997])\n",
      "2900 1.4243243917633208e-08 tensor([1.9998, 3.0000]) tensor([-3.9998])\n",
      "3000 7.392841894215962e-09 tensor([1.9999, 3.0000]) tensor([-3.9998])\n"
     ]
    }
   ],
   "source": [
    "for epoch in range(3001):\n",
    "    w.requires_grad_(True)\n",
    "    b.requires_grad_(True)\n",
    "    \n",
    "    h = x_train @ w + b\n",
    "    cost = ((h - y_train) ** 2).mean()\n",
    "    \n",
    "    cost.backward()\n",
    "    \n",
    "    with torch.no_grad():\n",
    "        w = w - lr * w.grad\n",
    "        b = b - lr * b.grad\n",
    "        \n",
    "        if epoch % 100 == 0:\n",
    "            print(epoch, cost.item(), w.squeeze(), b)"
   ]
  },
  {
   "cell_type": "code",
   "execution_count": 75,
   "metadata": {},
   "outputs": [
    {
     "name": "stdout",
     "output_type": "stream",
     "text": [
      "tensor([[35.9998],\n",
      "        [21.0001],\n",
      "        [24.9991]])\n"
     ]
    }
   ],
   "source": [
    "x_test = torch.FloatTensor([[5, 10], [2, 7], [10, 3]])\n",
    "y_test = x_test @ w + b\n",
    "\n",
    "print(y_test)"
   ]
  },
  {
   "cell_type": "code",
   "execution_count": 76,
   "metadata": {},
   "outputs": [
    {
     "name": "stdout",
     "output_type": "stream",
     "text": [
      "[[2. 3.]] [-4.]\n",
      "[[36.]\n",
      " [21.]\n",
      " [25.]]\n"
     ]
    }
   ],
   "source": [
    "from sklearn.linear_model import LinearRegression\n",
    "\n",
    "lr = LinearRegression()\n",
    "\n",
    "x = [[1, 2], [3, 2], [3, 7], [1, 1], [1, 0]]\n",
    "y = [[4], [8], [23], [1], [-2]]\n",
    "\n",
    "lr.fit(x, y)\n",
    "print(lr.coef_, lr.intercept_)\n",
    "\n",
    "x_test = [[5, 10], [2, 7], [10, 3]]\n",
    "y_test = lr.predict(x_test)\n",
    "print(y_test)"
   ]
  },
  {
   "cell_type": "code",
   "execution_count": 77,
   "metadata": {},
   "outputs": [],
   "source": [
    "import torch  \n",
    "x_train=torch.FloatTensor([[1],[2],[3],[4],[5],[2.5],[3.5],[0],[3.1],[2.7],[2.8],[2.9]])\n",
    "y_train=torch.FloatTensor([[1],[1],[1],[0],[0],[0],[0],[1],[0],[1],[1],[1]])"
   ]
  },
  {
   "cell_type": "code",
   "execution_count": 78,
   "metadata": {},
   "outputs": [
    {
     "data": {
      "image/png": "[encoded data removed]",
      "text/plain": [
       "<Figure size 640x480 with 1 Axes>"
      ]
     },
     "metadata": {},
     "output_type": "display_data"
    }
   ],
   "source": [
    "import matplotlib.pyplot as plt\n",
    "\n",
    "plt.scatter(x_train, y_train)\n",
    "plt.show()"
   ]
  },
  {
   "cell_type": "code",
   "execution_count": 79,
   "metadata": {},
   "outputs": [
    {
     "name": "stdout",
     "output_type": "stream",
     "text": [
      "0 2.0552165508270264 -0.4658905267715454 0.8387771248817444\n",
      "100 0.41756439208984375 -1.4938983917236328 4.537980556488037\n",
      "200 0.39789995551109314 -1.9224543571472168 5.846721649169922\n",
      "300 0.3904517590999603 -2.1905105113983154 6.658450126647949\n",
      "400 0.38681504130363464 -2.3791041374206543 7.227048397064209\n",
      "500 0.3848131597042084 -2.519562244415283 7.6493730545043945\n",
      "600 0.3836314380168915 -2.627746343612671 7.974059581756592\n",
      "700 0.3829011917114258 -2.712930202484131 8.229379653930664\n",
      "800 0.3824354410171509 -2.7810468673706055 8.433343887329102\n",
      "900 0.38213130831718445 -2.8361382484436035 8.598180770874023\n",
      "1000 0.38192930817604065 -2.8810720443725586 8.73254680633545\n",
      "1100 0.3817932903766632 -2.9179656505584717 8.842819213867188\n",
      "1200 0.38170066475868225 -2.9484176635742188 8.933802604675293\n",
      "1300 0.3816371262073517 -2.9736523628234863 9.009176254272461\n",
      "1400 0.381593257188797 -2.9946341514587402 9.071830749511719\n",
      "1500 0.381562739610672 -3.012127161026001 9.124056816101074\n",
      "1600 0.3815414607524872 -3.0267460346221924 9.167694091796875\n",
      "1700 0.3815265893936157 -3.038982391357422 9.204215049743652\n",
      "1800 0.38151606917381287 -3.0492405891418457 9.23482894897461\n",
      "1900 0.3815087080001831 -3.0578503608703613 9.260519981384277\n",
      "2000 0.38150346279144287 -3.065084934234619 9.282105445861816\n",
      "2100 0.38149985671043396 -3.071169376373291 9.300259590148926\n",
      "2200 0.38149717450141907 -3.076289176940918 9.315533638000488\n",
      "2300 0.3814953565597534 -3.0806002616882324 9.328394889831543\n",
      "2400 0.38149401545524597 -3.084233522415161 9.339232444763184\n",
      "2500 0.38149312138557434 -3.0872950553894043 9.348365783691406\n",
      "2600 0.38149240612983704 -3.089876890182495 9.356066703796387\n",
      "2700 0.3814920485019684 -3.0920538902282715 9.362561225891113\n",
      "2800 0.3814915716648102 -3.093890428543091 9.36803913116455\n",
      "2900 0.3814913034439087 -3.0954418182373047 9.372665405273438\n",
      "3000 0.38149118423461914 -3.0967507362365723 9.376570701599121\n"
     ]
    }
   ],
   "source": [
    "bce = torch.nn.BCELoss()\n",
    "mse = torch.nn.MSELoss()\n",
    "\n",
    "import math\n",
    "w = torch.randn(1, 1)\n",
    "b = torch.randn(1, 1)\n",
    "\n",
    "lr = 1.0\n",
    "\n",
    "for epoch in range(3001):\n",
    "    w.requires_grad_(True)\n",
    "    b.requires_grad_(True)\n",
    "    \n",
    "    h = torch.sigmoid(x_train @ w + b)\n",
    "    # h = 1 / (1 + math.e ** (-(x_train @ w + b)))\n",
    "    \n",
    "    # cost = torch.mean(-y_train * torch.log(h) - (1 - y_train) * torch.log(1 - h))\n",
    "    cost = bce(h, y_train)\n",
    "    cost.backward()\n",
    "    \n",
    "    with torch.no_grad():\n",
    "        w = w - lr * w.grad\n",
    "        b = b - lr * b.grad\n",
    "\n",
    "        if epoch % 100 == 0:\n",
    "            print(epoch, cost.item(), w.item(), b.item())"
   ]
  },
  {
   "cell_type": "code",
   "execution_count": 80,
   "metadata": {},
   "outputs": [
    {
     "name": "stdout",
     "output_type": "stream",
     "text": [
      "tensor([[0.9981],\n",
      "        [0.9602],\n",
      "        [0.5216],\n",
      "        [0.0470],\n",
      "        [0.0022],\n",
      "        [0.8368],\n",
      "        [0.1882],\n",
      "        [0.9999],\n",
      "        [0.4444],\n",
      "        [0.7341],\n",
      "        [0.6694],\n",
      "        [0.5977]], grad_fn=<SigmoidBackward0>)\n"
     ]
    }
   ],
   "source": [
    "print(h)"
   ]
  },
  {
   "cell_type": "code",
   "execution_count": 81,
   "metadata": {},
   "outputs": [
    {
     "name": "stdout",
     "output_type": "stream",
     "text": [
      "tensor([[0.],\n",
      "        [1.]])\n"
     ]
    }
   ],
   "source": [
    "x_test = torch.FloatTensor([[4.5], [1.1]])    \n",
    "test_result = torch.sigmoid(x_test @ w + b)\n",
    "\n",
    "# print(test_result)\n",
    "print(torch.round(test_result))\n"
   ]
  },
  {
   "cell_type": "code",
   "execution_count": 82,
   "metadata": {},
   "outputs": [
    {
     "data": {
      "image/png": "[encoded data removed]",
      "text/plain": [
       "<Figure size 640x480 with 1 Axes>"
      ]
     },
     "metadata": {},
     "output_type": "display_data"
    }
   ],
   "source": [
    "import matplotlib.pyplot as plt\n",
    "\n",
    "X = torch.linspace(0, 5, 100).unsqueeze(1)\n",
    "Y = torch.sigmoid(X @ w + b)\n",
    "\n",
    "plt.scatter(x_train, y_train)\n",
    "plt.plot(X, Y, c=\"red\")\n",
    "plt.show()"
   ]
  },
  {
   "cell_type": "code",
   "execution_count": 83,
   "metadata": {},
   "outputs": [
    {
     "data": {
      "text/plain": [
       "[<matplotlib.lines.Line2D at 0x25c3ce5fb20>]"
      ]
     },
     "execution_count": 83,
     "metadata": {},
     "output_type": "execute_result"
    },
    {
     "data": {
      "image/png": "[encoded data removed]",
      "text/plain": [
       "<Figure size 640x480 with 1 Axes>"
      ]
     },
     "metadata": {},
     "output_type": "display_data"
    }
   ],
   "source": [
    "import math\n",
    "\n",
    "# X = [1, 2, 3]\n",
    "# Y = [5, 1, 2]\n",
    "\n",
    "# plt.plot(X, Y)\n",
    "# plt.show()\n",
    "\n",
    "X = [x.item() for x in torch.linspace(0, 5, 100)]\n",
    "Y = [math.sin(x) for x in X]\n",
    "\n",
    "plt.plot(X, Y)\n"
   ]
  },
  {
   "cell_type": "code",
   "execution_count": 87,
   "metadata": {},
   "outputs": [
    {
     "name": "stdout",
     "output_type": "stream",
     "text": [
      "0 2.488723039627075 0.6483432054519653 -1.2246028184890747\n",
      "100 0.4027263820171356 -1.7934191226959229 5.466066837310791\n",
      "200 0.38616934418678284 -2.427537679672241 7.5139970779418945\n",
      "300 0.3826322853565216 -2.759566068649292 8.409271240234375\n",
      "400 0.3857615888118744 -2.871709108352661 8.932697296142578\n",
      "500 0.38357460498809814 -2.9719345569610596 9.175204277038574\n",
      "600 0.38327398896217346 -3.0207550525665283 9.317649841308594\n",
      "700 0.38391566276550293 -3.0403833389282227 9.407035827636719\n",
      "800 0.3841482102870941 -3.0543344020843506 9.455952644348145\n",
      "900 0.3839726448059082 -3.065129518508911 9.480873107910156\n",
      "1000 0.38393697142601013 -3.070456027984619 9.495809555053711\n",
      "1100 0.38397717475891113 -3.072962760925293 9.504964828491211\n",
      "1200 0.38398340344429016 -3.074617862701416 9.51003360748291\n",
      "1300 0.38397499918937683 -3.0756704807281494 9.512825012207031\n",
      "1400 0.38397446274757385 -3.0762221813201904 9.514472961425781\n",
      "1500 0.38397660851478577 -3.07651948928833 9.5154447555542\n",
      "1600 0.38397660851478577 -3.076704263687134 9.515986442565918\n",
      "1700 0.38397637009620667 -3.0768113136291504 9.516297340393066\n",
      "1800 0.3839763402938843 -3.0768721103668213 9.516477584838867\n",
      "1900 0.3839763402938843 -3.0769059658050537 9.516579627990723\n",
      "2000 0.38397645950317383 -3.076925277709961 9.516640663146973\n",
      "2100 0.38397637009620667 -3.076934814453125 9.516667366027832\n",
      "2200 0.3839763402938843 -3.0769402980804443 9.516678810119629\n",
      "2300 0.383976548910141 -3.07694149017334 9.516688346862793\n",
      "2400 0.383976548910141 -3.0769433975219727 9.516694068908691\n",
      "2500 0.38397642970085144 -3.0769448280334473 9.516695976257324\n",
      "2600 0.38397637009620667 -3.0769450664520264 9.51669692993164\n",
      "2700 0.38397637009620667 -3.0769448280334473 9.51669692993164\n",
      "2800 0.38397645950317383 -3.0769453048706055 9.516697883605957\n",
      "2900 0.3839764893054962 -3.0769457817077637 9.516700744628906\n",
      "3000 0.3839764893054962 -3.0769457817077637 9.516700744628906\n"
     ]
    }
   ],
   "source": [
    "w = torch.randn(1, 1, requires_grad=True)\n",
    "b = torch.randn(1, 1, requires_grad=True)\n",
    "\n",
    "# optimizer = torch.optim.Adam([w, b], lr=1.0)\n",
    "# optimizer = torch.optim.SGD([w, b], lr=1.0)\n",
    "optimizer = torch.optim.RMSprop([w, b], lr=0.1)\n",
    "\n",
    "\n",
    "for epoch in range(3001):\n",
    "    \n",
    "    h = torch.sigmoid(x_train @ w + b)\n",
    "    cost = torch.mean(-y_train * torch.log(h) - (1 - y_train) * torch.log(1 - h))\n",
    "    \n",
    "    optimizer.zero_grad()\n",
    "    cost.backward()\n",
    "    optimizer.step()\n",
    "    \n",
    "    with torch.no_grad():\n",
    "\n",
    "        if epoch % 100 == 0:\n",
    "            print(epoch, cost.item(), w.item(), b.item())"
   ]
  },
  {
   "cell_type": "code",
   "execution_count": null,
   "metadata": {},
   "outputs": [],
   "source": [
    "from sklearn.linear_model import LogisticRegression\n",
    "\n",
    "x_train=[[1],[2],[3],[4],[5],[2.5],[3.5],[0],[3.1],[2.7],[2.8],[2.9]]\n",
    "y_train=[1,1,1,0,0,0,0,1,0,1,1,1]\n",
    "\n",
    "model = LogisticRegression(penalty=None)\n"
   ]
  },
  {
   "cell_type": "code",
   "execution_count": 30,
   "metadata": {},
   "outputs": [],
   "source": [
    "import torch\n",
    "import torch.nn.functional as F\n",
    "import torch.nn as nn\n",
    "\n",
    "x_train = torch.tensor([ [1, 2, 1, 1], [2, 1, 3, 2], [3, 1, 3, 4], [4, 1, 5, 5], [1, 7, 5, 5],\n",
    "                            [1, 2, 5, 6], [1, 6, 6, 6], [1, 7, 7, 7] ], dtype=torch.float)\n",
    "y_train = torch.tensor([ 2, 2, 2, 1, 1, 1, 0, 0], dtype=torch.long)"
   ]
  },
  {
   "cell_type": "code",
   "execution_count": 31,
   "metadata": {},
   "outputs": [],
   "source": [
    "# W = torch.randn(4, 3, requires_grad=True)\n",
    "# b = torch.randn(1, 3, requires_grad=True)\n",
    "\n",
    "model = nn.Linear(4, 3)\n",
    "optim = torch.optim.Adam(model.parameters(), lr=0.1)\n",
    "\n",
    "# optimizer = torch.optim.Adam([W, b], lr=0.1)   "
   ]
  },
  {
   "cell_type": "code",
   "execution_count": 32,
   "metadata": {},
   "outputs": [
    {
     "name": "stdout",
     "output_type": "stream",
     "text": [
      "epoch: 0, cost: 2.3395774364471436\n",
      "epoch: 100, cost: 0.28777626156806946\n",
      "epoch: 200, cost: 0.17755544185638428\n",
      "epoch: 300, cost: 0.11921849846839905\n",
      "epoch: 400, cost: 0.0857560858130455\n",
      "epoch: 500, cost: 0.06478212773799896\n",
      "epoch: 600, cost: 0.05071810260415077\n",
      "epoch: 700, cost: 0.04080422595143318\n",
      "epoch: 800, cost: 0.033542439341545105\n",
      "epoch: 900, cost: 0.028057783842086792\n",
      "epoch: 1000, cost: 0.023810096085071564\n",
      "epoch: 1100, cost: 0.020450646057724953\n",
      "epoch: 1200, cost: 0.017745865508913994\n",
      "epoch: 1300, cost: 0.0155345369130373\n",
      "epoch: 1400, cost: 0.013702522031962872\n",
      "epoch: 1500, cost: 0.012166909873485565\n",
      "epoch: 1600, cost: 0.010866578668355942\n",
      "epoch: 1700, cost: 0.009755322709679604\n",
      "epoch: 1800, cost: 0.008797911927103996\n",
      "epoch: 1900, cost: 0.00796705111861229\n",
      "epoch: 2000, cost: 0.007241244427859783\n",
      "epoch: 2100, cost: 0.006603432819247246\n",
      "epoch: 2200, cost: 0.006039866246283054\n",
      "epoch: 2300, cost: 0.005539514124393463\n",
      "epoch: 2400, cost: 0.0050932662561535835\n",
      "epoch: 2500, cost: 0.0046936157159507275\n",
      "epoch: 2600, cost: 0.004334348253905773\n",
      "epoch: 2700, cost: 0.0040102554485201836\n",
      "epoch: 2800, cost: 0.003716892097145319\n",
      "epoch: 2900, cost: 0.0034506404772400856\n",
      "epoch: 3000, cost: 0.0032082260586321354\n"
     ]
    }
   ],
   "source": [
    "for epoch in range(3001):\n",
    "    # h = torch.mm(x_train, W) + b\n",
    "    h = model(x_train)\n",
    "    cost = F.cross_entropy(h, y_train)\n",
    "    \n",
    "    optim.zero_grad()\n",
    "    cost.backward()\n",
    "    optim.step()\n",
    "    \n",
    "    with torch.no_grad():\n",
    "        if epoch % 100 == 0:\n",
    "            print(f\"epoch: {epoch}, cost: {cost.item()}\")"
   ]
  },
  {
   "cell_type": "code",
   "execution_count": 33,
   "metadata": {},
   "outputs": [],
   "source": [
    "# torch.mm(x_train, W) + b"
   ]
  },
  {
   "cell_type": "code",
   "execution_count": 34,
   "metadata": {},
   "outputs": [],
   "source": [
    "# b"
   ]
  },
  {
   "cell_type": "code",
   "execution_count": 35,
   "metadata": {},
   "outputs": [],
   "source": [
    "# x_test = torch.tensor([[1, 11, 10, 9], [1, 3, 4, 3], [1, 1, 0, 1]], dtype=torch.float)\n",
    "# h_test = torch.softmax(torch.mm(x_test, W) + b, dim=1)\n",
    "# print(torch.argmax(h_test, dim=1))"
   ]
  },
  {
   "cell_type": "code",
   "execution_count": 36,
   "metadata": {},
   "outputs": [
    {
     "data": {
      "text/plain": [
       "tensor([3, 3])"
      ]
     },
     "execution_count": 36,
     "metadata": {},
     "output_type": "execute_result"
    }
   ],
   "source": [
    "a=torch.tensor([[1, 3, 2, 6, 4], [7, 2, 3, 9, 8]], dtype=torch.float)\n",
    "torch.argmax(a, dim=1) # 제일 큰 수의 index"
   ]
  },
  {
   "cell_type": "code",
   "execution_count": 37,
   "metadata": {},
   "outputs": [
    {
     "name": "stdout",
     "output_type": "stream",
     "text": [
      "Parameter containing:\n",
      "tensor([[-11.0675,  -0.7198,  10.5958,  -3.7506],\n",
      "        [  5.3274,   0.4248,  -4.2775,   2.6092],\n",
      "        [  7.7926,   1.2489, -10.7755,   0.9876]], requires_grad=True)\n",
      "Parameter containing:\n",
      "tensor([-22.6841,   0.4513,  24.2292], requires_grad=True)\n"
     ]
    }
   ],
   "source": [
    "for a in model.parameters():\n",
    "    print(a)"
   ]
  },
  {
   "cell_type": "code",
   "execution_count": 38,
   "metadata": {},
   "outputs": [
    {
     "data": {
      "text/plain": [
       "array([0, 1, 2])"
      ]
     },
     "execution_count": 38,
     "metadata": {},
     "output_type": "execute_result"
    }
   ],
   "source": [
    "import numpy as np\n",
    "from sklearn.linear_model import LogisticRegression\n",
    "\n",
    "x_train = np.array([ [1, 2, 1, 1], [2, 1, 3, 2], [3, 1, 3, 4], [4, 1, 5, 5], [1, 7, 5, 5],\n",
    "                            [1, 2, 5, 6], [1, 6, 6, 6], [1, 7, 7, 7] ])\n",
    "y_train = np.array([ 2, 2, 2, 1, 1, 1, 0, 0])\n",
    "\n",
    "model = LogisticRegression(penalty=None)\n",
    "\n",
    "model.fit(x_train, y_train)\n",
    "\n",
    "x_test = np.array([[1, 11, 10, 9], [1, 3, 4, 3], [1, 1, 0, 1]])\n",
    "model.predict(x_test)"
   ]
  },
  {
   "cell_type": "code",
   "execution_count": 3,
   "metadata": {},
   "outputs": [
    {
     "name": "stdout",
     "output_type": "stream",
     "text": [
      "소프트맥스 확률 출력:\n",
      "tensor([[0.6590, 0.2424, 0.0986],\n",
      "        [0.1131, 0.8360, 0.0508],\n",
      "        [0.1220, 0.3315, 0.5465]])\n"
     ]
    }
   ],
   "source": [
    "import torch\n",
    "import torch.nn.functional as F\n",
    "\n",
    "# 입력 데이터 준비 (logits)\n",
    "logits = torch.tensor([[2.0, 1.0, 0.1],\n",
    "                       [1.0, 3.0, 0.2],\n",
    "                       [0.5, 1.5, 2.0]])\n",
    "\n",
    "# 소프트맥스 적용\n",
    "softmax_probs = F.softmax(logits, dim=1)\n",
    "\n",
    "print(\"소프트맥스 확률 출력:\")\n",
    "print(softmax_probs)\n"
   ]
  },
  {
   "cell_type": "code",
   "execution_count": 5,
   "metadata": {},
   "outputs": [
    {
     "name": "stdout",
     "output_type": "stream",
     "text": [
      "Cross Entropy 손실: 0.8106180429458618\n",
      "Binary Cross Entropy 손실: 0.14462153613567352\n"
     ]
    }
   ],
   "source": [
    "import torch\n",
    "import torch.nn as nn\n",
    "\n",
    "# 다중 클래스 예제 (CrossEntropyLoss)\n",
    "y_true = torch.tensor([2, 0])  # 실제 값 (원-핫 인코딩이 아님, 클래스 인덱스로 전달)\n",
    "y_pred = torch.tensor([[0.1, 0.3, 0.6], [0.7, 0.2, 0.1]])  # 예측 값 (로짓 값)\n",
    "\n",
    "criterion = nn.CrossEntropyLoss()\n",
    "loss = criterion(y_pred, y_true)\n",
    "print(f\"Cross Entropy 손실: {loss.item()}\")\n",
    "\n",
    "# 이진 분류 예제 (BCELoss)\n",
    "y_true_binary = torch.tensor([1.0, 0.0, 1.0])  # 실제 값\n",
    "y_pred_binary = torch.tensor([0.9, 0.1, 0.8])  # 예측 값\n",
    "\n",
    "bce_criterion = nn.BCELoss()\n",
    "bce_loss = bce_criterion(y_pred_binary, y_true_binary)\n",
    "print(f\"Binary Cross Entropy 손실: {bce_loss.item()}\")\n"
   ]
  },
  {
   "cell_type": "code",
   "execution_count": 4,
   "metadata": {},
   "outputs": [
    {
     "name": "stdout",
     "output_type": "stream",
     "text": [
      "쿼리 포인트 [4 3]의 예측된 클래스: 1\n"
     ]
    }
   ],
   "source": [
    "from sklearn.neighbors import KNeighborsClassifier\n",
    "import numpy as np\n",
    "\n",
    "# 훈련 데이터와 레이블\n",
    "X_train = np.array([[2, 3], [5, 4], [1, 8], [7, 5], [6, 9]])\n",
    "y_train = np.array([0, 1, 0, 1, 1])\n",
    "\n",
    "# KNN 모델 생성\n",
    "knn = KNeighborsClassifier(n_neighbors=3)\n",
    "\n",
    "# 모델 학습\n",
    "knn.fit(X_train, y_train)\n",
    "\n",
    "# 쿼리 포인트 (예측하고자 하는 새로운 데이터)\n",
    "X_query = np.array([[4, 3]])\n",
    "\n",
    "# 예측 수행\n",
    "y_pred = knn.predict(X_query)\n",
    "print(f\"쿼리 포인트 {X_query[0]}의 예측된 클래스: {y_pred[0]}\")\n"
   ]
  }
 ],
 "metadata": {
  "kernelspec": {
   "display_name": "myvenv",
   "language": "python",
   "name": "python3"
  },
  "language_info": {
   "codemirror_mode": {
    "name": "ipython",
    "version": 3
   },
   "file_extension": ".py",
   "mimetype": "text/x-python",
   "name": "python",
   "nbconvert_exporter": "python",
   "pygments_lexer": "ipython3",
   "version": "3.12.3"
  }
 },
 "nbformat": 4,
 "nbformat_minor": 2
}
