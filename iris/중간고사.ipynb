{
 "cells": [
  {
   "cell_type": "code",
   "execution_count": 28,
   "metadata": {},
   "outputs": [
    {
     "name": "stdout",
     "output_type": "stream",
     "text": [
      "tensor(72.)\n"
     ]
    }
   ],
   "source": [
    "import torch\n",
    "w = torch.tensor(4.0, requires_grad=True)\n",
    "a = w * 3\n",
    "l = a ** 2\n",
    "l.backward()\n",
    "print(w.grad)"
   ]
  },
  {
   "cell_type": "code",
   "execution_count": 29,
   "metadata": {},
   "outputs": [
    {
     "name": "stdout",
     "output_type": "stream",
     "text": [
      "tensor([[ 0.5060],\n",
      "        [-0.0581]]) tensor([0.9194])\n",
      "0 98.21588897705078 tensor([0.8214, 0.5945]) tensor([1.0216])\n",
      "100 1.9781043529510498 tensor([0.4977, 3.1472]) tensor([-1.0084])\n",
      "200 0.9576786756515503 tensor([0.7853, 3.2057]) tensor([-1.9505])\n",
      "300 0.491412878036499 tensor([1.1136, 3.1588]) tensor([-2.5415])\n",
      "400 0.2525363564491272 tensor([1.3628, 3.1152]) tensor([-2.9557])\n",
      "500 0.12978298962116241 tensor([1.5430, 3.0827]) tensor([-3.2515])\n",
      "600 0.06669775396585464 tensor([1.6724, 3.0593]) tensor([-3.4634])\n",
      "700 0.03427721560001373 tensor([1.7651, 3.0425]) tensor([-3.6153])\n",
      "800 0.017615653574466705 tensor([1.8316, 3.0305]) tensor([-3.7242])\n",
      "900 0.009052936919033527 tensor([1.8793, 3.0218]) tensor([-3.8023])\n",
      "1000 0.004652451723814011 tensor([1.9135, 3.0157]) tensor([-3.8583])\n",
      "1100 0.002391018206253648 tensor([1.9380, 3.0112]) tensor([-3.8984])\n",
      "1200 0.0012287864228710532 tensor([1.9555, 3.0080]) tensor([-3.9272])\n",
      "1300 0.0006314880447462201 tensor([1.9681, 3.0058]) tensor([-3.9478])\n",
      "1400 0.00032454580650664866 tensor([1.9771, 3.0041]) tensor([-3.9626])\n",
      "1500 0.00016678575775586069 tensor([1.9836, 3.0030]) tensor([-3.9732])\n",
      "1600 8.572570368414745e-05 tensor([1.9883, 3.0021]) tensor([-3.9808])\n",
      "1700 4.405573781696148e-05 tensor([1.9916, 3.0015]) tensor([-3.9862])\n",
      "1800 2.2642891053692438e-05 tensor([1.9940, 3.0011]) tensor([-3.9901])\n",
      "1900 1.1639252988970838e-05 tensor([1.9957, 3.0008]) tensor([-3.9929])\n",
      "2000 5.981016329315025e-06 tensor([1.9969, 3.0006]) tensor([-3.9949])\n",
      "2100 3.0745636649953667e-06 tensor([1.9978, 3.0004]) tensor([-3.9964])\n",
      "2200 1.5798350432305597e-06 tensor([1.9984, 3.0003]) tensor([-3.9974])\n",
      "2300 8.126260695462406e-07 tensor([1.9989, 3.0002]) tensor([-3.9981])\n",
      "2400 4.1784710447245743e-07 tensor([1.9992, 3.0001]) tensor([-3.9987])\n",
      "2500 2.1457415755321563e-07 tensor([1.9994, 3.0001]) tensor([-3.9990])\n",
      "2600 1.1070780914224088e-07 tensor([1.9996, 3.0001]) tensor([-3.9993])\n",
      "2700 5.7030216993325666e-08 tensor([1.9997, 3.0001]) tensor([-3.9995])\n",
      "2800 2.9331124196119163e-08 tensor([1.9998, 3.0000]) tensor([-3.9996])\n",
      "2900 1.5015555021591354e-08 tensor([1.9998, 3.0000]) tensor([-3.9997])\n",
      "3000 7.790026401721661e-09 tensor([1.9999, 3.0000]) tensor([-3.9998])\n"
     ]
    }
   ],
   "source": [
    "#linear regression\n",
    "x_train = torch.FloatTensor([[1, 2], [3, 2], [3, 7], [1, 1], [1, 0]])\n",
    "y_train = torch.FloatTensor([[4], [8], [23], [1], [-2]])\n",
    "w = torch.randn(2, 1)\n",
    "b = torch.randn(1)\n",
    "print(w, b)\n",
    "\n",
    "lr = 0.01\n",
    "for epoch in range(3001):\n",
    "    w.requires_grad_(True)\n",
    "    b.requires_grad_(True)\n",
    "    \n",
    "    h = x_train @ w + b\n",
    "    cost = ((h - y_train) ** 2).mean()\n",
    "    \n",
    "    cost.backward()\n",
    "    \n",
    "    with torch.no_grad():\n",
    "        w = w - lr * w.grad\n",
    "        b = b - lr * b.grad\n",
    "        \n",
    "        if epoch % 100 == 0:\n",
    "            print(epoch, cost.item(), w.squeeze(), b)"
   ]
  },
  {
   "cell_type": "code",
   "execution_count": 30,
   "metadata": {},
   "outputs": [],
   "source": [
    "import torch  \n",
    "x_train=torch.FloatTensor([[1],[2],[3],[4],[5],[2.5],[3.5],[0],[3.1],[2.7],[2.8],[2.9]])\n",
    "y_train=torch.FloatTensor([[1],[1],[1],[0],[0],[0],[0],[1],[0],[1],[1],[1]])"
   ]
  },
  {
   "cell_type": "code",
   "execution_count": 31,
   "metadata": {},
   "outputs": [
    {
     "name": "stdout",
     "output_type": "stream",
     "text": [
      "[[2. 3.]] [-4.]\n",
      "[[36.]\n",
      " [21.]\n",
      " [25.]]\n"
     ]
    }
   ],
   "source": [
    "#linear_regression\n",
    "\n",
    "from sklearn.linear_model import LinearRegression\n",
    "\n",
    "lr = LinearRegression()\n",
    "\n",
    "x = [[1, 2], [3, 2], [3, 7], [1, 1], [1, 0]]\n",
    "y = [[4], [8], [23], [1], [-2]]\n",
    "\n",
    "lr.fit(x, y)\n",
    "#실제로 scikit-learn에서 구하는 coef(w)와 intercept(b)는 경사하강법이 아니다. \n",
    "print(lr.coef_, lr.intercept_)\n",
    "\n",
    "x_test = [[5, 10], [2, 7], [10, 3]]\n",
    "y_test = lr.predict(x_test)\n",
    "print(y_test)"
   ]
  },
  {
   "cell_type": "code",
   "execution_count": 32,
   "metadata": {},
   "outputs": [
    {
     "name": "stdout",
     "output_type": "stream",
     "text": [
      "0 1.9661803245544434 -1.0364898443222046 1.916930079460144\n",
      "100 0.41272544860839844 -1.5784704685211182 4.797499179840088\n",
      "200 0.39630356431007385 -1.9716253280639648 5.995969295501709\n",
      "300 0.38971826434135437 -2.224031686782837 6.759653091430664\n",
      "400 0.38642463088035583 -2.4036364555358887 7.300878524780273\n",
      "500 0.38458773493766785 -2.5382494926452637 7.705493450164795\n",
      "600 0.3834940493106842 -2.6423490047454834 8.01784896850586\n",
      "700 0.38281455636024475 -2.7245430946350098 8.264164924621582\n",
      "800 0.3823793828487396 -2.7903997898101807 8.461336135864258\n",
      "900 0.3820943534374237 -2.8437418937683105 8.620923042297363\n",
      "1000 0.3819044828414917 -2.887302875518799 8.751173973083496\n",
      "1100 0.3817765414714813 -2.923100471496582 8.858162879943848\n",
      "1200 0.3816891610622406 -2.952665328979492 8.946491241455078\n",
      "1300 0.38162922859191895 -2.9771792888641357 9.019708633422852\n",
      "1400 0.3815877437591553 -2.997572183609009 9.08060359954834\n",
      "1500 0.3815588653087616 -3.0145821571350098 9.13138484954834\n",
      "1600 0.3815387189388275 -3.028799057006836 9.173822402954102\n",
      "1700 0.3815246820449829 -3.040703058242798 9.2093505859375\n",
      "1800 0.3815147876739502 -3.0506842136383057 9.239136695861816\n",
      "1900 0.3815077543258667 -3.0590643882751465 9.264142036437988\n",
      "2000 0.3815028667449951 -3.066105604171753 9.285151481628418\n",
      "2100 0.381499320268631 -3.0720274448394775 9.30281925201416\n",
      "2200 0.3814968764781952 -3.077012062072754 9.317689895629883\n",
      "2300 0.3814951181411743 -3.081209897994995 9.330212593078613\n",
      "2400 0.38149383664131165 -3.0847463607788086 9.340763092041016\n",
      "2500 0.38149306178092957 -3.0877273082733154 9.349655151367188\n",
      "2600 0.38149240612983704 -3.090240955352783 9.357152938842773\n",
      "2700 0.38149192929267883 -3.0923619270324707 9.363479614257812\n",
      "2800 0.38149163126945496 -3.094151020050049 9.368815422058105\n",
      "2900 0.3814913034439087 -3.095660924911499 9.373319625854492\n",
      "3000 0.38149118423461914 -3.096935272216797 9.377120971679688\n"
     ]
    }
   ],
   "source": [
    "#bce를 통한 분류\n",
    "\n",
    "bce = torch.nn.BCELoss()\n",
    "\n",
    "import math\n",
    "w = torch.randn(1, 1)\n",
    "b = torch.randn(1, 1)\n",
    "\n",
    "lr = 1.0\n",
    "\n",
    "for epoch in range(3001):\n",
    "    w.requires_grad_(True)\n",
    "    b.requires_grad_(True)\n",
    "    \n",
    "    h = torch.sigmoid(x_train @ w + b)\n",
    "    # h = 1 / (1 + math.e ** (-(x_train @ w + b)))\n",
    "    \n",
    "    # cost = torch.mean(-y_train * torch.log(h) - (1 - y_train) * torch.log(1 - h))\n",
    "    cost = bce(h, y_train)\n",
    "    cost.backward()\n",
    "    \n",
    "    with torch.no_grad():\n",
    "        w = w - lr * w.grad\n",
    "        b = b - lr * b.grad\n",
    "\n",
    "        if epoch % 100 == 0:\n",
    "            print(epoch, cost.item(), w.item(), b.item())\n",
    "            "
   ]
  },
  {
   "cell_type": "code",
   "execution_count": 33,
   "metadata": {},
   "outputs": [
    {
     "name": "stdout",
     "output_type": "stream",
     "text": [
      "tensor([[0.],\n",
      "        [1.]])\n"
     ]
    }
   ],
   "source": [
    "x_test = torch.FloatTensor([[4.5], [1.1]])    \n",
    "test_result = torch.sigmoid(x_test @ w + b)\n",
    "\n",
    "# print(test_result)\n",
    "print(torch.round(test_result))\n"
   ]
  },
  {
   "cell_type": "code",
   "execution_count": 34,
   "metadata": {},
   "outputs": [
    {
     "name": "stdout",
     "output_type": "stream",
     "text": [
      "0 1.8934297561645508 0.13298237323760986 -0.7817929983139038\n",
      "100 0.39995619654655457 -1.8660157918930054 5.685833930969238\n",
      "200 0.38508322834968567 -2.507239580154419 7.5969390869140625\n",
      "300 0.38249969482421875 -2.7933225631713867 8.434892654418945\n",
      "400 0.38236042857170105 -2.9616315364837646 8.872175216674805\n",
      "500 0.3837880790233612 -3.0678250789642334 9.095926284790039\n",
      "600 0.38470616936683655 -3.1221742630004883 9.228002548217773\n",
      "700 0.384000301361084 -3.141711711883545 9.313289642333984\n",
      "800 0.3838374614715576 -3.1554179191589355 9.358614921569824\n",
      "900 0.38397887349128723 -3.165482997894287 9.382452964782715\n",
      "1000 0.3840128183364868 -3.1706461906433105 9.396854400634766\n",
      "1100 0.3839809000492096 -3.173128128051758 9.405549049377441\n",
      "1200 0.38397660851478577 -3.1747119426727295 9.410340309143066\n",
      "1300 0.38398441672325134 -3.175713539123535 9.413006782531738\n",
      "1400 0.3839852511882782 -3.176248550415039 9.414586067199707\n",
      "1500 0.3839837610721588 -3.1765382289886475 9.415507316589355\n",
      "1600 0.38398393988609314 -3.1767144203186035 9.416024208068848\n",
      "1700 0.3839842975139618 -3.1768176555633545 9.4163179397583\n",
      "1800 0.383984237909317 -3.176875352859497 9.416487693786621\n",
      "1900 0.3839839696884155 -3.176905870437622 9.41658878326416\n",
      "2000 0.38398411870002747 -3.1769261360168457 9.416644096374512\n",
      "2100 0.38398420810699463 -3.176938772201538 9.416678428649902\n",
      "2200 0.38398420810699463 -3.176941394805908 9.41668701171875\n",
      "2300 0.3839840888977051 -3.1769421100616455 9.416692733764648\n",
      "2400 0.383984237909317 -3.1769442558288574 9.416695594787598\n",
      "2500 0.38398420810699463 -3.1769447326660156 9.416696548461914\n",
      "2600 0.3839842975139618 -3.1769444942474365 9.41669750213623\n",
      "2700 0.383984237909317 -3.1769449710845947 9.41669750213623\n",
      "2800 0.38398420810699463 -3.176945924758911 9.41670036315918\n",
      "2900 0.38398420810699463 -3.176945924758911 9.41670036315918\n",
      "3000 0.38398420810699463 -3.176945924758911 9.41670036315918\n"
     ]
    }
   ],
   "source": [
    "w = torch.randn(1, 1, requires_grad=True)\n",
    "b = torch.randn(1, 1, requires_grad=True)\n",
    "\n",
    "# optimizer = torch.optim.Adam([w, b], lr=1.0)\n",
    "# optimizer = torch.optim.SGD([w, b], lr=1.0)\n",
    "optimizer = torch.optim.RMSprop([w, b], lr=0.1)\n",
    "\n",
    "\n",
    "for epoch in range(3001):\n",
    "    \n",
    "    h = torch.sigmoid(x_train @ w + b)\n",
    "    cost = torch.mean(-y_train * torch.log(h) - (1 - y_train) * torch.log(1 - h))\n",
    "    \n",
    "    #누적된 기울기 초기화\n",
    "    optimizer.zero_grad()\n",
    "    #기울기, 편향 계산\n",
    "    cost.backward()\n",
    "    \n",
    "    #가중치 업데이트\n",
    "    optimizer.step()\n",
    "    \n",
    "    with torch.no_grad():\n",
    "\n",
    "        if epoch % 100 == 0:\n",
    "            print(epoch, cost.item(), w.item(), b.item())"
   ]
  },
  {
   "cell_type": "code",
   "execution_count": 35,
   "metadata": {},
   "outputs": [
    {
     "name": "stdout",
     "output_type": "stream",
     "text": [
      "epoch:0, cost:3.1676323413848877\n",
      "epoch:100, cost:0.3585580587387085\n",
      "epoch:200, cost:0.23475299775600433\n",
      "epoch:300, cost:0.16226305067539215\n",
      "epoch:400, cost:0.1186661571264267\n",
      "epoch:500, cost:0.09060386568307877\n",
      "epoch:600, cost:0.071439228951931\n",
      "epoch:700, cost:0.057746630162000656\n",
      "epoch:800, cost:0.047616273164749146\n",
      "epoch:900, cost:0.0399090014398098\n",
      "epoch:1000, cost:0.03390829265117645\n",
      "epoch:1100, cost:0.029144342988729477\n",
      "epoch:1200, cost:0.02529846504330635\n",
      "epoch:1300, cost:0.022148355841636658\n",
      "epoch:1400, cost:0.0195352453738451\n",
      "epoch:1500, cost:0.0173430684953928\n",
      "epoch:1600, cost:0.015485765412449837\n",
      "epoch:1700, cost:0.013898130506277084\n",
      "epoch:1800, cost:0.012530193664133549\n",
      "epoch:1900, cost:0.01134306751191616\n",
      "epoch:2000, cost:0.010306219570338726\n",
      "epoch:2100, cost:0.00939520075917244\n",
      "epoch:2200, cost:0.008590583689510822\n",
      "epoch:2300, cost:0.007876329123973846\n",
      "epoch:2400, cost:0.007239482365548611\n",
      "epoch:2500, cost:0.006669358815997839\n",
      "epoch:2600, cost:0.006157008931040764\n",
      "epoch:2700, cost:0.005694932769984007\n",
      "epoch:2800, cost:0.005276916548609734\n",
      "epoch:2900, cost:0.004897542297840118\n",
      "epoch:3000, cost:0.004552355967462063\n"
     ]
    }
   ],
   "source": [
    "#softmax\n",
    "import torch\n",
    "import torch.nn.functional as F\n",
    "import torch.nn as nn\n",
    "\n",
    "x_train = torch.tensor([ [1, 2, 1, 1], [2, 1, 3, 2], [3, 1, 3, 4], [4, 1, 5, 5], [1, 7, 5, 5],\n",
    "                            [1, 2, 5, 6], [1, 6, 6, 6], [1, 7, 7, 7] ], dtype=torch.float)\n",
    "y_train = torch.tensor([ 2, 2, 2, 1, 1, 1, 0, 0], dtype=torch.long)\n",
    "\n",
    "# W = torch.randn(4, 3, requires_grad=True)\n",
    "# b = torch.randn(1, 3, requires_grad=True)\n",
    "\n",
    "# optim = torch.optim.Adam([W, b], lr=0.1)\n",
    "model = nn.Linear(4, 3)\n",
    "optim = torch.optim.Adam(model.parameters(), lr=0.1)\n",
    "for epoch in range(3001):\n",
    "    \n",
    "    # h = torch.mm(x_train, W) + b\n",
    "    h = model(x_train)\n",
    "    #cost 계산\n",
    "    \n",
    "    cost = F.cross_entropy(h, y_train)\n",
    "    \n",
    "    optim.zero_grad()\n",
    "    cost.backward()\n",
    "    optim.step()\n",
    "    \n",
    "    with torch.no_grad():\n",
    "        if epoch % 100 == 0:\n",
    "            print(f\"epoch:{epoch}, cost:{cost.item()}\") "
   ]
  },
  {
   "cell_type": "code",
   "execution_count": 36,
   "metadata": {},
   "outputs": [
    {
     "data": {
      "text/plain": [
       "array([0, 1, 2])"
      ]
     },
     "execution_count": 36,
     "metadata": {},
     "output_type": "execute_result"
    }
   ],
   "source": [
    "import numpy as np\n",
    "from sklearn.linear_model import LogisticRegression\n",
    "\n",
    "x_train = np.array([ [1, 2, 1, 1], [2, 1, 3, 2], [3, 1, 3, 4], [4, 1, 5, 5], [1, 7, 5, 5],\n",
    "                            [1, 2, 5, 6], [1, 6, 6, 6], [1, 7, 7, 7] ])\n",
    "y_train = np.array([ 2, 2, 2, 1, 1, 1, 0, 0])\n",
    "\n",
    "#y 에 0, 1, 2 등 둘 이상의 class가 존재 => softmax regression\n",
    "model = LogisticRegression(penalty=None)\n",
    "\n",
    "model.fit(x_train, y_train)\n",
    "\n",
    "x_test = np.array([[1, 11, 10, 9], [1, 3, 4, 3], [1, 1, 0, 1]])\n",
    "model.predict(x_test)\n",
    "\n"
   ]
  },
  {
   "cell_type": "code",
   "execution_count": 37,
   "metadata": {},
   "outputs": [
    {
     "name": "stdout",
     "output_type": "stream",
     "text": [
      "epoch:0, cost:5.839266300201416\n"
     ]
    },
    {
     "name": "stdout",
     "output_type": "stream",
     "text": [
      "epoch:100, cost:0.24948230385780334\n",
      "epoch:200, cost:0.144336998462677\n",
      "epoch:300, cost:0.09242567420005798\n",
      "epoch:400, cost:0.06418627500534058\n",
      "epoch:500, cost:0.04728551208972931\n",
      "epoch:600, cost:0.036374010145664215\n",
      "epoch:700, cost:0.028905823826789856\n",
      "epoch:800, cost:0.023556703701615334\n",
      "epoch:900, cost:0.01958436332643032\n",
      "epoch:1000, cost:0.01654687151312828\n",
      "epoch:1100, cost:0.014167857356369495\n",
      "epoch:1200, cost:0.012266527861356735\n",
      "epoch:1300, cost:0.010720808990299702\n",
      "epoch:1400, cost:0.009445848874747753\n",
      "epoch:1500, cost:0.008380793035030365\n",
      "epoch:1600, cost:0.0074812378734350204\n",
      "epoch:1700, cost:0.00671401945874095\n",
      "epoch:1800, cost:0.006054043769836426\n",
      "epoch:1900, cost:0.00548198726028204\n",
      "epoch:2000, cost:0.004982654005289078\n",
      "epoch:2100, cost:0.004544231109321117\n",
      "epoch:2200, cost:0.0041569811291992664\n",
      "epoch:2300, cost:0.0038132902700453997\n",
      "epoch:2400, cost:0.0035068022552877665\n",
      "epoch:2500, cost:0.003232380375266075\n",
      "epoch:2600, cost:0.0029856355395168066\n",
      "epoch:2700, cost:0.002763068536296487\n",
      "epoch:2800, cost:0.002561613218858838\n",
      "epoch:2900, cost:0.0023786972742527723\n",
      "epoch:3000, cost:0.0022121421061456203\n"
     ]
    }
   ],
   "source": [
    "#softmax\n",
    "x_train = torch.tensor([ [1, 2, 1, 1], [2, 1, 3, 2], [3, 1, 3, 4], [4, 1, 5, 5], [1, 7, 5, 5],\n",
    "                            [1, 2, 5, 6], [1, 6, 6, 6], [1, 7, 7, 7] ], dtype=torch.float)\n",
    "y_train = torch.tensor([[0,0,1], [0,0,1], [0,0,1], [0,1,0], [0,1,0], \n",
    "                       [0,1,0], [1,0,0], [1,0,0]], dtype=torch.float)\n",
    "\n",
    "W = torch.randn(4, 3, requires_grad=True)\n",
    "b = torch.randn(1, 3, requires_grad=True)\n",
    "\n",
    "optim = torch.optim.Adam([W, b], lr=0.1)\n",
    "\n",
    "for epoch in range(3001):\n",
    "    #어디를 합을 1로 만들건지(dim=0 or 1)\n",
    "    h = torch.softmax(torch.mm(x_train, W) + b, dim=1)   \n",
    "    #cost 계산\n",
    "    cost = -torch.mean(torch.sum(y_train * torch.log(h), dim=1))\n",
    "    \n",
    "    optim.zero_grad()\n",
    "    cost.backward()\n",
    "    optim.step()\n",
    "    \n",
    "    with torch.no_grad():\n",
    "        if epoch % 100 == 0:\n",
    "            print(f\"epoch:{epoch}, cost:{cost.item()}\") "
   ]
  },
  {
   "cell_type": "code",
   "execution_count": 38,
   "metadata": {},
   "outputs": [],
   "source": [
    "x_test = torch.tensor([[1, 11, 10, 9], [1, 3, 4, 3], [1, 1, 0, 1]], dtype=torch.float)\n",
    "\n",
    "h = torch.softmax(torch.mm(x_test, W) + b, dim = 1)    "
   ]
  },
  {
   "cell_type": "code",
   "execution_count": 39,
   "metadata": {},
   "outputs": [
    {
     "name": "stdout",
     "output_type": "stream",
     "text": [
      "소프트맥스 확률 출력:\n",
      "tensor([[0.6590, 0.2424, 0.0986],\n",
      "        [0.1131, 0.8360, 0.0508],\n",
      "        [0.1220, 0.3315, 0.5465]])\n"
     ]
    }
   ],
   "source": [
    "import torch\n",
    "import torch.nn.functional as F\n",
    "\n",
    "# 입력 데이터 준비 (logits)\n",
    "logits = torch.tensor([[2.0, 1.0, 0.1],\n",
    "                       [1.0, 3.0, 0.2],\n",
    "                       [0.5, 1.5, 2.0]])\n",
    "\n",
    "# 소프트맥스 적용\n",
    "softmax_probs = F.softmax(logits, dim=1)\n",
    "\n",
    "print(\"소프트맥스 확률 출력:\")\n",
    "print(softmax_probs)\n"
   ]
  },
  {
   "cell_type": "code",
   "execution_count": 40,
   "metadata": {},
   "outputs": [
    {
     "data": {
      "text/plain": [
       "array([0, 1, 2])"
      ]
     },
     "execution_count": 40,
     "metadata": {},
     "output_type": "execute_result"
    }
   ],
   "source": [
    "#softmax\n",
    "import numpy as np\n",
    "from sklearn.linear_model import LogisticRegression\n",
    "\n",
    "x_train = np.array([ [1, 2, 1, 1], [2, 1, 3, 2], [3, 1, 3, 4], [4, 1, 5, 5], [1, 7, 5, 5],\n",
    "                            [1, 2, 5, 6], [1, 6, 6, 6], [1, 7, 7, 7] ])\n",
    "y_train = np.array([ 2, 2, 2, 1, 1, 1, 0, 0])\n",
    "\n",
    "model = LogisticRegression(penalty=None)\n",
    "\n",
    "model.fit(x_train, y_train)\n",
    "\n",
    "x_test = np.array([[1, 11, 10, 9], [1, 3, 4, 3], [1, 1, 0, 1]])\n",
    "model.predict(x_test)"
   ]
  },
  {
   "cell_type": "code",
   "execution_count": 41,
   "metadata": {},
   "outputs": [
    {
     "name": "stdout",
     "output_type": "stream",
     "text": [
      "Cross Entropy 손실: 0.8106180429458618\n",
      "Binary Cross Entropy 손실: 0.14462153613567352\n"
     ]
    }
   ],
   "source": [
    "#cross entropy\n",
    "import torch\n",
    "import torch.nn as nn\n",
    "\n",
    "# 다중 클래스 예제 (CrossEntropyLoss)\n",
    "y_true = torch.tensor([2, 0])  # 실제 값 (원-핫 인코딩이 아님, 클래스 인덱스로 전달)\n",
    "y_pred = torch.tensor([[0.1, 0.3, 0.6], [0.7, 0.2, 0.1]])  # 예측 값 (로짓 값)\n",
    "\n",
    "criterion = nn.CrossEntropyLoss()\n",
    "loss = criterion(y_pred, y_true)\n",
    "print(f\"Cross Entropy 손실: {loss.item()}\")\n",
    "\n",
    "# 이진 분류 예제 (BCELoss)\n",
    "y_true_binary = torch.tensor([1.0, 0.0, 1.0])  # 실제 값\n",
    "y_pred_binary = torch.tensor([0.9, 0.1, 0.8])  # 예측 값\n",
    "\n",
    "bce_criterion = nn.BCELoss()\n",
    "bce_loss = bce_criterion(y_pred_binary, y_true_binary)\n",
    "print(f\"Binary Cross Entropy 손실: {bce_loss.item()}\")\n"
   ]
  },
  {
   "cell_type": "code",
   "execution_count": null,
   "metadata": {},
   "outputs": [],
   "source": []
  },
  {
   "cell_type": "code",
   "execution_count": 42,
   "metadata": {},
   "outputs": [
    {
     "name": "stdout",
     "output_type": "stream",
     "text": [
      "Epoch [0/500], Loss: 1.2751\n",
      "Epoch [50/500], Loss: 0.8543\n",
      "Epoch [100/500], Loss: 0.5934\n",
      "Epoch [150/500], Loss: 0.4299\n",
      "Epoch [200/500], Loss: 0.3243\n",
      "Epoch [250/500], Loss: 0.2531\n",
      "Epoch [300/500], Loss: 0.2032\n",
      "Epoch [350/500], Loss: 0.1670\n",
      "Epoch [400/500], Loss: 0.1398\n",
      "Epoch [450/500], Loss: 0.1189\n",
      "Predicted class for tensor([[1., 0.]]): 0\n"
     ]
    }
   ],
   "source": [
    "import torch\n",
    "import torch.nn as nn\n",
    "import torch.optim as optim\n",
    "\n",
    "# 데이터셋 준비\n",
    "x_train = torch.tensor([[1.0, 0.0], [0.0, 1.0], [1.0, 1.0], [0.0, 0.0]])\n",
    "y_train = torch.tensor([0, 1, 2, 3])  # 클래스 레이블 (0, 1, 2, 3)\n",
    "\n",
    "# 모델 정의\n",
    "class SoftmaxClassifier(nn.Module):\n",
    "    def __init__(self, input_dim, output_dim):\n",
    "        super(SoftmaxClassifier, self).__init__()\n",
    "        self.linear = nn.Linear(input_dim, output_dim)  # 입력과 출력 연결\n",
    "\n",
    "    def forward(self, x):\n",
    "        return self.linear(x)\n",
    "\n",
    "model = SoftmaxClassifier(input_dim=2, output_dim=4)\n",
    "\n",
    "# 손실 함수와 옵티마이저 정의\n",
    "criterion = nn.CrossEntropyLoss()  # 내부적으로 Softmax 포함\n",
    "optimizer = optim.Adam(model.parameters(), lr=0.01)  # Adam Optimizer 사용\n",
    "\n",
    "# 학습 반복 (Epoch Loop)\n",
    "epochs = 500\n",
    "for epoch in range(epochs):\n",
    "    # Forward Propagation\n",
    "    output = model(x_train)\n",
    "\n",
    "    # 손실 계산\n",
    "    loss = criterion(output, y_train)\n",
    "\n",
    "    # Gradient 초기화, Backpropagation, 가중치 업데이트\n",
    "    optimizer.zero_grad()\n",
    "    loss.backward()\n",
    "    optimizer.step()\n",
    "\n",
    "    # 중간 결과 출력\n",
    "    if epoch % 50 == 0:\n",
    "        print(f\"Epoch [{epoch}/{epochs}], Loss: {loss.item():.4f}\")\n",
    "\n",
    "# 테스트\n",
    "test_input = torch.tensor([[1.0, 0.0]])  # 새로운 데이터 예측\n",
    "test_output = model(test_input)\n",
    "predicted_class = torch.argmax(test_output, dim=1)\n",
    "print(f\"Predicted class for {test_input}: {predicted_class.item()}\")\n"
   ]
  },
  {
   "cell_type": "code",
   "execution_count": 43,
   "metadata": {},
   "outputs": [
    {
     "data": {
      "image/png": "[encoded data removed]",
      "text/plain": [
       "<Figure size 640x480 with 1 Axes>"
      ]
     },
     "metadata": {},
     "output_type": "display_data"
    }
   ],
   "source": [
    "import matplotlib.pyplot as plt\n",
    "from sklearn.cluster import KMeans\n",
    "import numpy as np\n",
    "\n",
    "# 데이터 포인트 정의\n",
    "data = np.array([[1, 2], [2, 1], [4, 5], [5, 4], [8, 8], [9, 9]])\n",
    "\n",
    "# WCSS 저장 리스트\n",
    "wcss = []\n",
    "\n",
    "# 다양한 K 값에 대해 K-Means 수행 (데이터 포인트 개수를 초과하지 않도록 설정)\n",
    "for k in range(1, len(data) + 1):\n",
    "    kmeans = KMeans(n_clusters=k, init='k-means++', max_iter=300, n_init=10, random_state=42)\n",
    "    kmeans.fit(data)\n",
    "    wcss.append(kmeans.inertia_)\n",
    "\n",
    "# 엘보우 방법을 위한 그래프 그리기\n",
    "plt.plot(range(1, len(data) + 1), wcss)\n",
    "plt.title('elbow')\n",
    "plt.xlabel('K')\n",
    "plt.ylabel('WCSS (Within-Cluster Sum of Squares)')\n",
    "plt.show()\n"
   ]
  },
  {
   "cell_type": "code",
   "execution_count": 44,
   "metadata": {},
   "outputs": [],
   "source": [
    "import numpy as np\n",
    "\n",
    "X = []\n",
    "Y = []\n",
    "for line in open(\"iris.data\", \"r\"):\n",
    "    line = line.rstrip()\n",
    "    if line == \"\": continue\n",
    "\n",
    "    *x, y = line.split(\",\")\n",
    "    x = [float(i) for i in x]\n",
    "    X.append(x)\n",
    "    Y.append(y)\n",
    "    \n",
    "\n",
    "labels = list(set(Y))\n",
    "Y = [labels.index(y) for y in Y]\n",
    "\n",
    "X = np.array(X)\n",
    "Y = np.array(Y)"
   ]
  },
  {
   "cell_type": "code",
   "execution_count": 45,
   "metadata": {},
   "outputs": [],
   "source": [
    "class KNNClassifier:\n",
    "    def __init__(self, k):\n",
    "        self.k = k\n",
    "\n",
    "    def fit(self, X, Y):\n",
    "        self.X = X\n",
    "        self.Y = Y\n",
    "\n",
    "    def predict(self, queries):\n",
    "        Y = []\n",
    "        for q in queries:\n",
    "            dists = np.linalg.norm(self.X - q, axis = 1)\n",
    "            knns= np.argsort(dists)[:self.k]\n",
    "            counts = np.bincount(self.Y[knns])\n",
    "            Y.append(np.argmax(counts))\n",
    "\n",
    "        return np.array(Y)"
   ]
  },
  {
   "cell_type": "code",
   "execution_count": 46,
   "metadata": {},
   "outputs": [
    {
     "name": "stdout",
     "output_type": "stream",
     "text": [
      "Train accuracy: 0.9916666666666667\n",
      "Test accuracy: 0.9\n"
     ]
    }
   ],
   "source": [
    "perm = np.random.permutation(len(X))\n",
    "n_trains = int(len(X) * 0.8)\n",
    "X_train = X[perm[:n_trains]]\n",
    "Y_train = Y[perm[:n_trains]]\n",
    "X_test = X[perm[n_trains:]]\n",
    "Y_test = Y[perm[n_trains:]]\n",
    "\n",
    "knn = KNNClassifier(5)\n",
    "knn.fit(X_train, Y_train)\n",
    "\n",
    "pred_train = knn.predict(X_train)\n",
    "pred_test = knn.predict(X_test)\n",
    "\n",
    "print(\"Train accuracy:\", (pred_train == Y_train).mean())\n",
    "print(\"Test accuracy:\", (pred_test == Y_test).mean())"
   ]
  }
 ],
 "metadata": {
  "kernelspec": {
   "display_name": "myvenv",
   "language": "python",
   "name": "python3"
  },
  "language_info": {
   "codemirror_mode": {
    "name": "ipython",
    "version": 3
   },
   "file_extension": ".py",
   "mimetype": "text/x-python",
   "name": "python",
   "nbconvert_exporter": "python",
   "pygments_lexer": "ipython3",
   "version": "3.12.3"
  }
 },
 "nbformat": 4,
 "nbformat_minor": 2
}
