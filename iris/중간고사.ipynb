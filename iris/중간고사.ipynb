{
 "cells": [
  {
   "cell_type": "code",
   "execution_count": 1,
   "metadata": {},
   "outputs": [
    {
     "name": "stdout",
     "output_type": "stream",
     "text": [
      "tensor(72.)\n"
     ]
    }
   ],
   "source": [
    "import torch\n",
    "w = torch.tensor(4.0, requires_grad=True)\n",
    "a = w * 3\n",
    "l = a ** 2\n",
    "l.backward()\n",
    "print(w.grad)"
   ]
  },
  {
   "cell_type": "code",
   "execution_count": 2,
   "metadata": {},
   "outputs": [
    {
     "name": "stdout",
     "output_type": "stream",
     "text": [
      "tensor([[-0.4088],\n",
      "        [ 0.6673]]) tensor([0.3574])\n",
      "0 87.33390808105469 tensor([-0.0834,  1.2884]) tensor([0.4690])\n",
      "100 1.9493783712387085 tensor([0.3724, 3.2251]) tensor([-1.0386])\n",
      "200 0.9835619926452637 tensor([0.7565, 3.2172]) tensor([-1.9300])\n",
      "300 0.5052369832992554 tensor([1.0999, 3.1620]) tensor([-2.5221])\n",
      "400 0.2596477270126343 tensor([1.3537, 3.1169]) tensor([-2.9412])\n",
      "500 0.13343767821788788 tensor([1.5366, 3.0839]) tensor([-3.2410])\n",
      "600 0.0685761421918869 tensor([1.6678, 3.0601]) tensor([-3.4559])\n",
      "700 0.035242579877376556 tensor([1.7618, 3.0431]) tensor([-3.6100])\n",
      "800 0.018111784011125565 tensor([1.8293, 3.0309]) tensor([-3.7204])\n",
      "900 0.00930803082883358 tensor([1.8776, 3.0222]) tensor([-3.7996])\n",
      "1000 0.004783623851835728 tensor([1.9123, 3.0159]) tensor([-3.8563])\n",
      "1100 0.002458409871906042 tensor([1.9371, 3.0114]) tensor([-3.8970])\n",
      "1200 0.0012633815640583634 tensor([1.9549, 3.0082]) tensor([-3.9262])\n",
      "1300 0.0006492786342278123 tensor([1.9677, 3.0059]) tensor([-3.9471])\n",
      "1400 0.0003336890658829361 tensor([1.9768, 3.0042]) tensor([-3.9620])\n",
      "1500 0.00017149077029898763 tensor([1.9834, 3.0030]) tensor([-3.9728])\n",
      "1600 8.813705062493682e-05 tensor([1.9881, 3.0022]) tensor([-3.9805])\n",
      "1700 4.529933357844129e-05 tensor([1.9915, 3.0015]) tensor([-3.9860])\n",
      "1800 2.327797483303584e-05 tensor([1.9939, 3.0011]) tensor([-3.9900])\n",
      "1900 1.1961803465965204e-05 tensor([1.9956, 3.0008]) tensor([-3.9928])\n",
      "2000 6.1481814555008896e-06 tensor([1.9969, 3.0006]) tensor([-3.9948])\n",
      "2100 3.1594433949067025e-06 tensor([1.9977, 3.0004]) tensor([-3.9963])\n",
      "2200 1.6246664245045395e-06 tensor([1.9984, 3.0003]) tensor([-3.9974])\n",
      "2300 8.351009341822646e-07 tensor([1.9988, 3.0002]) tensor([-3.9981])\n",
      "2400 4.289991863970499e-07 tensor([1.9992, 3.0002]) tensor([-3.9986])\n",
      "2500 2.2034851099306252e-07 tensor([1.9994, 3.0001]) tensor([-3.9990])\n",
      "2600 1.1377071729157251e-07 tensor([1.9996, 3.0001]) tensor([-3.9993])\n",
      "2700 5.838554528736495e-08 tensor([1.9997, 3.0001]) tensor([-3.9995])\n",
      "2800 3.019296102024782e-08 tensor([1.9998, 3.0000]) tensor([-3.9996])\n",
      "2900 1.5426177668587115e-08 tensor([1.9998, 3.0000]) tensor([-3.9997])\n",
      "3000 8.038583132474741e-09 tensor([1.9999, 3.0000]) tensor([-3.9998])\n"
     ]
    }
   ],
   "source": [
    "#linear regression\n",
    "x_train = torch.FloatTensor([[1, 2], [3, 2], [3, 7], [1, 1], [1, 0]])\n",
    "y_train = torch.FloatTensor([[4], [8], [23], [1], [-2]])\n",
    "w = torch.randn(2, 1)\n",
    "b = torch.randn(1)\n",
    "print(w, b)\n",
    "\n",
    "lr = 0.01\n",
    "for epoch in range(3001):\n",
    "    w.requires_grad_(True)\n",
    "    b.requires_grad_(True)\n",
    "    \n",
    "    h = x_train @ w + b\n",
    "    cost = ((h - y_train) ** 2).mean()\n",
    "    \n",
    "    cost.backward()\n",
    "    \n",
    "    with torch.no_grad():\n",
    "        w = w - lr * w.grad\n",
    "        b = b - lr * b.grad\n",
    "        \n",
    "        if epoch % 100 == 0:\n",
    "            print(epoch, cost.item(), w.squeeze(), b)"
   ]
  },
  {
   "cell_type": "code",
   "execution_count": 3,
   "metadata": {},
   "outputs": [],
   "source": [
    "import torch  \n",
    "x_train=torch.FloatTensor([[1],[2],[3],[4],[5],[2.5],[3.5],[0],[3.1],[2.7],[2.8],[2.9]])\n",
    "y_train=torch.FloatTensor([[1],[1],[1],[0],[0],[0],[0],[1],[0],[1],[1],[1]])"
   ]
  },
  {
   "cell_type": "code",
   "execution_count": 4,
   "metadata": {},
   "outputs": [
    {
     "name": "stdout",
     "output_type": "stream",
     "text": [
      "[[2. 3.]] [-4.]\n",
      "[[36.]\n",
      " [21.]\n",
      " [25.]]\n"
     ]
    }
   ],
   "source": [
    "#linear_regression\n",
    "\n",
    "from sklearn.linear_model import LinearRegression\n",
    "\n",
    "lr = LinearRegression()\n",
    "\n",
    "x = [[1, 2], [3, 2], [3, 7], [1, 1], [1, 0]]\n",
    "y = [[4], [8], [23], [1], [-2]]\n",
    "\n",
    "lr.fit(x, y)\n",
    "#실제로 scikit-learn에서 구하는 coef(w)와 intercept(b)는 경사하강법이 아니다. \n",
    "print(lr.coef_, lr.intercept_)\n",
    "\n",
    "x_test = [[5, 10], [2, 7], [10, 3]]\n",
    "y_test = lr.predict(x_test)\n",
    "print(y_test)"
   ]
  },
  {
   "cell_type": "code",
   "execution_count": 5,
   "metadata": {},
   "outputs": [
    {
     "name": "stdout",
     "output_type": "stream",
     "text": [
      "0 1.2426789999008179 -0.2901606559753418 1.406509518623352\n",
      "100 0.4157479703426361 -1.5245215892791748 4.632030963897705\n",
      "200 0.3973163664340973 -1.9400299787521362 5.900088310241699\n",
      "300 0.3901863098144531 -2.2024333477020264 6.694453716278076\n",
      "400 0.3866744339466095 -2.387808322906494 7.253246784210205\n",
      "500 0.3847322165966034 -2.5261824131011963 7.669256687164307\n",
      "600 0.3835822641849518 -2.632913589477539 7.989555835723877\n",
      "700 0.38287022709846497 -2.7170357704162598 8.241677284240723\n",
      "800 0.38241544365882874 -2.784351110458374 8.443233489990234\n",
      "900 0.3821180760860443 -2.8388216495513916 8.606206893920898\n",
      "1000 0.3819204568862915 -2.883270502090454 8.739119529724121\n",
      "1100 0.3817872107028961 -2.919776201248169 8.84822940826416\n",
      "1200 0.38169658184051514 -2.94991397857666 8.938273429870605\n",
      "1300 0.381634384393692 -2.9748964309692383 9.01289176940918\n",
      "1400 0.3815912902355194 -2.9956700801849365 9.074923515319824\n",
      "1500 0.38156139850616455 -3.0129921436309814 9.126638412475586\n",
      "1600 0.3815406262874603 -3.0274689197540283 9.169852256774902\n",
      "1700 0.38152584433555603 -3.0395891666412354 9.206026077270508\n",
      "1800 0.3815155327320099 -3.0497498512268066 9.236348152160645\n",
      "1900 0.38150835037231445 -3.0582799911499023 9.261801719665527\n",
      "2000 0.38150325417518616 -3.065446376800537 9.283185005187988\n",
      "2100 0.38149964809417725 -3.0714735984802246 9.301167488098145\n",
      "2200 0.38149702548980713 -3.0765459537506104 9.316300392150879\n",
      "2300 0.3814952075481415 -3.080817222595215 9.329042434692383\n",
      "2400 0.3814939260482788 -3.084415912628174 9.339776992797852\n",
      "2500 0.38149306178092957 -3.0874485969543457 9.348823547363281\n",
      "2600 0.3814924657344818 -3.090006113052368 9.356451988220215\n",
      "2700 0.38149189949035645 -3.092163562774658 9.362887382507324\n",
      "2800 0.38149163126945496 -3.0939834117889404 9.368315696716309\n",
      "2900 0.3814913332462311 -3.0955188274383545 9.372896194458008\n",
      "3000 0.38149118423461914 -3.096815347671509 9.376762390136719\n"
     ]
    }
   ],
   "source": [
    "#bce를 통한 분류\n",
    "\n",
    "bce = torch.nn.BCELoss()\n",
    "\n",
    "import math\n",
    "w = torch.randn(1, 1)\n",
    "b = torch.randn(1, 1)\n",
    "\n",
    "lr = 1.0\n",
    "\n",
    "for epoch in range(3001):\n",
    "    w.requires_grad_(True)\n",
    "    b.requires_grad_(True)\n",
    "    \n",
    "    h = torch.sigmoid(x_train @ w + b)\n",
    "    # h = 1 / (1 + math.e ** (-(x_train @ w + b)))\n",
    "    \n",
    "    # cost = torch.mean(-y_train * torch.log(h) - (1 - y_train) * torch.log(1 - h))\n",
    "    cost = bce(h, y_train)\n",
    "    cost.backward()\n",
    "    \n",
    "    with torch.no_grad():\n",
    "        w = w - lr * w.grad\n",
    "        b = b - lr * b.grad\n",
    "\n",
    "        if epoch % 100 == 0:\n",
    "            print(epoch, cost.item(), w.item(), b.item())\n",
    "            "
   ]
  },
  {
   "cell_type": "code",
   "execution_count": 6,
   "metadata": {},
   "outputs": [
    {
     "name": "stdout",
     "output_type": "stream",
     "text": [
      "tensor([[0.],\n",
      "        [1.]])\n"
     ]
    }
   ],
   "source": [
    "x_test = torch.FloatTensor([[4.5], [1.1]])    \n",
    "test_result = torch.sigmoid(x_test @ w + b)\n",
    "\n",
    "# print(test_result)\n",
    "print(torch.round(test_result))\n"
   ]
  },
  {
   "cell_type": "code",
   "execution_count": 7,
   "metadata": {},
   "outputs": [
    {
     "name": "stdout",
     "output_type": "stream",
     "text": [
      "0 1.0753892660140991 -0.35750263929367065 -1.4853863716125488\n",
      "100 0.4057193696498871 -1.7229758501052856 5.248586177825928\n",
      "200 0.39578214287757874 -2.321934461593628 7.329427719116211\n",
      "300 0.3829352855682373 -2.7079761028289795 8.239358901977539\n",
      "400 0.38259825110435486 -2.8705146312713623 8.803410530090332\n",
      "500 0.3828332722187042 -2.960695266723633 9.111281394958496\n",
      "600 0.3837950527667999 -3.0035133361816406 9.292625427246094\n",
      "700 0.3843172788619995 -3.031177520751953 9.393213272094727\n",
      "800 0.38399538397789 -3.0527501106262207 9.4443359375\n",
      "900 0.3839006721973419 -3.0637941360473633 9.474421501159668\n",
      "1000 0.3839716613292694 -3.0689494609832764 9.492876052856445\n",
      "1100 0.383990615606308 -3.0722286701202393 9.503206253051758\n",
      "1200 0.38397467136383057 -3.0743515491485596 9.50886344909668\n",
      "1300 0.3839724361896515 -3.0754806995391846 9.512185096740723\n",
      "1400 0.38397645950317383 -3.076082706451416 9.514141082763672\n",
      "1500 0.3839770555496216 -3.0764498710632324 9.515246391296387\n",
      "1600 0.38397613167762756 -3.0766706466674805 9.51586627960205\n",
      "1700 0.3839762210845947 -3.0767905712127686 9.516230583190918\n",
      "1800 0.3839764893054962 -3.076857328414917 9.516440391540527\n",
      "1900 0.38397645950317383 -3.0768985748291016 9.516560554504395\n",
      "2000 0.3839764893054962 -3.076921224594116 9.516629219055176\n",
      "2100 0.383976548910141 -3.0769340991973877 9.516667366027832\n",
      "2200 0.38397642970085144 -3.0769405364990234 9.516685485839844\n",
      "2300 0.38397642970085144 -3.076944589614868 9.516695976257324\n",
      "2400 0.38397642970085144 -3.0769455432891846 9.516700744628906\n",
      "2500 0.3839764893054962 -3.0769457817077637 9.516700744628906\n",
      "2600 0.3839764893054962 -3.0769457817077637 9.516700744628906\n",
      "2700 0.3839764893054962 -3.0769457817077637 9.516700744628906\n",
      "2800 0.3839764893054962 -3.0769457817077637 9.516700744628906\n",
      "2900 0.3839764893054962 -3.0769457817077637 9.516700744628906\n",
      "3000 0.3839764893054962 -3.0769457817077637 9.516700744628906\n"
     ]
    }
   ],
   "source": [
    "w = torch.randn(1, 1, requires_grad=True)\n",
    "b = torch.randn(1, 1, requires_grad=True)\n",
    "\n",
    "# optimizer = torch.optim.Adam([w, b], lr=1.0)\n",
    "# optimizer = torch.optim.SGD([w, b], lr=1.0)\n",
    "optimizer = torch.optim.RMSprop([w, b], lr=0.1)\n",
    "\n",
    "\n",
    "for epoch in range(3001):\n",
    "    \n",
    "    h = torch.sigmoid(x_train @ w + b)\n",
    "    cost = torch.mean(-y_train * torch.log(h) - (1 - y_train) * torch.log(1 - h))\n",
    "    \n",
    "    #누적된 기울기 초기화\n",
    "    optimizer.zero_grad()\n",
    "    #기울기, 편향 계산\n",
    "    cost.backward()\n",
    "    \n",
    "    #가중치 업데이트\n",
    "    optimizer.step()\n",
    "    \n",
    "    with torch.no_grad():\n",
    "\n",
    "        if epoch % 100 == 0:\n",
    "            print(epoch, cost.item(), w.item(), b.item())"
   ]
  },
  {
   "cell_type": "code",
   "execution_count": 24,
   "metadata": {},
   "outputs": [
    {
     "name": "stdout",
     "output_type": "stream",
     "text": [
      "epoch:0, cost:2.2546908855438232\n",
      "epoch:100, cost:0.31657472252845764\n",
      "epoch:200, cost:0.2015831470489502\n",
      "epoch:300, cost:0.13777488470077515\n",
      "epoch:400, cost:0.1002374067902565\n",
      "epoch:500, cost:0.07629694044589996\n",
      "epoch:600, cost:0.060033608227968216\n",
      "epoch:700, cost:0.04845796525478363\n",
      "epoch:800, cost:0.03991863131523132\n",
      "epoch:900, cost:0.033436369150877\n",
      "epoch:1000, cost:0.0283978171646595\n",
      "epoch:1100, cost:0.02440267987549305\n",
      "epoch:1200, cost:0.021180428564548492\n",
      "epoch:1300, cost:0.018542766571044922\n",
      "epoch:1400, cost:0.016355669125914574\n",
      "epoch:1500, cost:0.014521420933306217\n",
      "epoch:1600, cost:0.012967719696462154\n",
      "epoch:1700, cost:0.01163968164473772\n",
      "epoch:1800, cost:0.010495397262275219\n",
      "epoch:1900, cost:0.009502395987510681\n",
      "epoch:2000, cost:0.008635029196739197\n",
      "epoch:2100, cost:0.007872886955738068\n",
      "epoch:2200, cost:0.007199637126177549\n",
      "epoch:2300, cost:0.0066019101068377495\n",
      "epoch:2400, cost:0.0060689738020300865\n",
      "epoch:2500, cost:0.0055917659774422646\n",
      "epoch:2600, cost:0.005162868648767471\n",
      "epoch:2700, cost:0.0047759911976754665\n",
      "epoch:2800, cost:0.004425950814038515\n",
      "epoch:2900, cost:0.004108223132789135\n",
      "epoch:3000, cost:0.0038190935738384724\n"
     ]
    }
   ],
   "source": [
    "#softmax\n",
    "import torch\n",
    "import torch.nn.functional as F\n",
    "import torch.nn as nn\n",
    "\n",
    "x_train = torch.tensor([ [1, 2, 1, 1], [2, 1, 3, 2], [3, 1, 3, 4], [4, 1, 5, 5], [1, 7, 5, 5],\n",
    "                            [1, 2, 5, 6], [1, 6, 6, 6], [1, 7, 7, 7] ], dtype=torch.float)\n",
    "y_train = torch.tensor([ 2, 2, 2, 1, 1, 1, 0, 0], dtype=torch.long)\n",
    "\n",
    "# W = torch.randn(4, 3, requires_grad=True)\n",
    "# b = torch.randn(1, 3, requires_grad=True)\n",
    "\n",
    "# optim = torch.optim.Adam([W, b], lr=0.1)\n",
    "model = nn.Linear(4, 3)\n",
    "optim = torch.optim.Adam(model.parameters(), lr=0.1)\n",
    "for epoch in range(3001):\n",
    "    \n",
    "    # h = torch.mm(x_train, W) + b\n",
    "    h = model(x_train)\n",
    "    #cost 계산\n",
    "    \n",
    "    cost = F.cross_entropy(h, y_train)\n",
    "    \n",
    "    optim.zero_grad()\n",
    "    cost.backward()\n",
    "    optim.step()\n",
    "    \n",
    "    with torch.no_grad():\n",
    "        if epoch % 100 == 0:\n",
    "            print(f\"epoch:{epoch}, cost:{cost.item()}\") "
   ]
  },
  {
   "cell_type": "code",
   "execution_count": null,
   "metadata": {},
   "outputs": [
    {
     "data": {
      "text/plain": [
       "array([0, 1, 2])"
      ]
     },
     "execution_count": 25,
     "metadata": {},
     "output_type": "execute_result"
    }
   ],
   "source": [
    "import numpy as np\n",
    "from sklearn.linear_model import LogisticRegression\n",
    "\n",
    "x_train = np.array([ [1, 2, 1, 1], [2, 1, 3, 2], [3, 1, 3, 4], [4, 1, 5, 5], [1, 7, 5, 5],\n",
    "                            [1, 2, 5, 6], [1, 6, 6, 6], [1, 7, 7, 7] ])\n",
    "y_train = np.array([ 2, 2, 2, 1, 1, 1, 0, 0])\n",
    "\n",
    "#y 에 0, 1, 2 등 둘 이상의 class가 존재 => softmax regression\n",
    "model = LogisticRegression(penalty=None)\n",
    "\n",
    "model.fit(x_train, y_train)\n",
    "\n",
    "x_test = np.array([[1, 11, 10, 9], [1, 3, 4, 3], [1, 1, 0, 1]])\n",
    "model.predict(x_test)\n",
    "\n"
   ]
  },
  {
   "cell_type": "code",
   "execution_count": 20,
   "metadata": {},
   "outputs": [
    {
     "name": "stdout",
     "output_type": "stream",
     "text": [
      "epoch:0, cost:8.982460021972656\n",
      "epoch:100, cost:0.3560991585254669\n",
      "epoch:200, cost:0.23404189944267273\n",
      "epoch:300, cost:0.1653594672679901\n",
      "epoch:400, cost:0.12284959107637405\n",
      "epoch:500, cost:0.0947890430688858\n",
      "epoch:600, cost:0.07527570426464081\n",
      "epoch:700, cost:0.06115284189581871\n",
      "epoch:800, cost:0.05060599371790886\n",
      "epoch:900, cost:0.042526327073574066\n",
      "epoch:1000, cost:0.03620282933115959\n",
      "epoch:1100, cost:0.031162874773144722\n",
      "epoch:1200, cost:0.027081714943051338\n",
      "epoch:1300, cost:0.023730918765068054\n",
      "epoch:1400, cost:0.020946018397808075\n",
      "epoch:1500, cost:0.018606187775731087\n",
      "epoch:1600, cost:0.016621368005871773\n",
      "epoch:1700, cost:0.014922989532351494\n",
      "epoch:1800, cost:0.013458430767059326\n",
      "epoch:1900, cost:0.012186627835035324\n",
      "epoch:2000, cost:0.011075077578425407\n",
      "epoch:2100, cost:0.010098040103912354\n",
      "epoch:2200, cost:0.009234645403921604\n",
      "epoch:2300, cost:0.008468003012239933\n",
      "epoch:2400, cost:0.007784293964505196\n",
      "epoch:2500, cost:0.007171948440372944\n",
      "epoch:2600, cost:0.0066215889528393745\n",
      "epoch:2700, cost:0.0061251637525856495\n",
      "epoch:2800, cost:0.005675904918462038\n",
      "epoch:2900, cost:0.00526818260550499\n",
      "epoch:3000, cost:0.004897152539342642\n"
     ]
    }
   ],
   "source": [
    "#softmax\n",
    "x_train = torch.tensor([ [1, 2, 1, 1], [2, 1, 3, 2], [3, 1, 3, 4], [4, 1, 5, 5], [1, 7, 5, 5],\n",
    "                            [1, 2, 5, 6], [1, 6, 6, 6], [1, 7, 7, 7] ], dtype=torch.float)\n",
    "y_train = torch.tensor([[0,0,1], [0,0,1], [0,0,1], [0,1,0], [0,1,0], \n",
    "                       [0,1,0], [1,0,0], [1,0,0]], dtype=torch.float)\n",
    "\n",
    "W = torch.randn(4, 3, requires_grad=True)\n",
    "b = torch.randn(1, 3, requires_grad=True)\n",
    "\n",
    "optim = torch.optim.Adam([W, b], lr=0.1)\n",
    "\n",
    "for epoch in range(3001):\n",
    "    #어디를 합을 1로 만들건지(dim=0 or 1)\n",
    "    h = torch.softmax(torch.mm(x_train, W) + b, dim=1)   \n",
    "    #cost 계산\n",
    "    cost = -torch.mean(torch.sum(y_train * torch.log(h), dim=1))\n",
    "    \n",
    "    optim.zero_grad()\n",
    "    cost.backward()\n",
    "    optim.step()\n",
    "    \n",
    "    with torch.no_grad():\n",
    "        if epoch % 100 == 0:\n",
    "            print(f\"epoch:{epoch}, cost:{cost.item()}\") "
   ]
  },
  {
   "cell_type": "code",
   "execution_count": null,
   "metadata": {},
   "outputs": [],
   "source": [
    "x_test = torch.tensor([[1, 11, 10, 9], [1, 3, 4, 3], [1, 1, 0, 1]], dtype=torch.float)\n",
    "\n",
    "h = torch.softmax(torch.mm(x_test, W) + b, dim = 1)    "
   ]
  },
  {
   "cell_type": "code",
   "execution_count": 14,
   "metadata": {},
   "outputs": [
    {
     "name": "stdout",
     "output_type": "stream",
     "text": [
      "소프트맥스 확률 출력:\n",
      "tensor([[0.6590, 0.2424, 0.0986],\n",
      "        [0.1131, 0.8360, 0.0508],\n",
      "        [0.1220, 0.3315, 0.5465]])\n"
     ]
    }
   ],
   "source": [
    "import torch\n",
    "import torch.nn.functional as F\n",
    "\n",
    "# 입력 데이터 준비 (logits)\n",
    "logits = torch.tensor([[2.0, 1.0, 0.1],\n",
    "                       [1.0, 3.0, 0.2],\n",
    "                       [0.5, 1.5, 2.0]])\n",
    "\n",
    "# 소프트맥스 적용\n",
    "softmax_probs = F.softmax(logits, dim=1)\n",
    "\n",
    "print(\"소프트맥스 확률 출력:\")\n",
    "print(softmax_probs)\n"
   ]
  },
  {
   "cell_type": "code",
   "execution_count": 26,
   "metadata": {},
   "outputs": [
    {
     "data": {
      "text/plain": [
       "array([0, 1, 2])"
      ]
     },
     "execution_count": 26,
     "metadata": {},
     "output_type": "execute_result"
    }
   ],
   "source": [
    "#softmax\n",
    "import numpy as np\n",
    "from sklearn.linear_model import LogisticRegression\n",
    "\n",
    "x_train = np.array([ [1, 2, 1, 1], [2, 1, 3, 2], [3, 1, 3, 4], [4, 1, 5, 5], [1, 7, 5, 5],\n",
    "                            [1, 2, 5, 6], [1, 6, 6, 6], [1, 7, 7, 7] ])\n",
    "y_train = np.array([ 2, 2, 2, 1, 1, 1, 0, 0])\n",
    "\n",
    "model = LogisticRegression(penalty=None)\n",
    "\n",
    "model.fit(x_train, y_train)\n",
    "\n",
    "x_test = np.array([[1, 11, 10, 9], [1, 3, 4, 3], [1, 1, 0, 1]])\n",
    "model.predict(x_test)"
   ]
  },
  {
   "cell_type": "code",
   "execution_count": 15,
   "metadata": {},
   "outputs": [
    {
     "name": "stdout",
     "output_type": "stream",
     "text": [
      "Cross Entropy 손실: 0.8106180429458618\n",
      "Binary Cross Entropy 손실: 0.14462153613567352\n"
     ]
    }
   ],
   "source": [
    "#cross entropy\n",
    "import torch\n",
    "import torch.nn as nn\n",
    "\n",
    "# 다중 클래스 예제 (CrossEntropyLoss)\n",
    "y_true = torch.tensor([2, 0])  # 실제 값 (원-핫 인코딩이 아님, 클래스 인덱스로 전달)\n",
    "y_pred = torch.tensor([[0.1, 0.3, 0.6], [0.7, 0.2, 0.1]])  # 예측 값 (로짓 값)\n",
    "\n",
    "criterion = nn.CrossEntropyLoss()\n",
    "loss = criterion(y_pred, y_true)\n",
    "print(f\"Cross Entropy 손실: {loss.item()}\")\n",
    "\n",
    "# 이진 분류 예제 (BCELoss)\n",
    "y_true_binary = torch.tensor([1.0, 0.0, 1.0])  # 실제 값\n",
    "y_pred_binary = torch.tensor([0.9, 0.1, 0.8])  # 예측 값\n",
    "\n",
    "bce_criterion = nn.BCELoss()\n",
    "bce_loss = bce_criterion(y_pred_binary, y_true_binary)\n",
    "print(f\"Binary Cross Entropy 손실: {bce_loss.item()}\")\n"
   ]
  },
  {
   "cell_type": "code",
   "execution_count": null,
   "metadata": {},
   "outputs": [],
   "source": []
  },
  {
   "cell_type": "code",
   "execution_count": 9,
   "metadata": {},
   "outputs": [
    {
     "name": "stdout",
     "output_type": "stream",
     "text": [
      "Epoch [0/500], Loss: 1.6165\n",
      "Epoch [50/500], Loss: 1.0411\n",
      "Epoch [100/500], Loss: 0.7446\n",
      "Epoch [150/500], Loss: 0.5553\n",
      "Epoch [200/500], Loss: 0.4265\n",
      "Epoch [250/500], Loss: 0.3365\n",
      "Epoch [300/500], Loss: 0.2717\n",
      "Epoch [350/500], Loss: 0.2240\n",
      "Epoch [400/500], Loss: 0.1878\n",
      "Epoch [450/500], Loss: 0.1599\n",
      "Predicted class for tensor([[1., 0.]]): 0\n"
     ]
    }
   ],
   "source": [
    "import torch\n",
    "import torch.nn as nn\n",
    "import torch.optim as optim\n",
    "\n",
    "# 데이터셋 준비\n",
    "x_train = torch.tensor([[1.0, 0.0], [0.0, 1.0], [1.0, 1.0], [0.0, 0.0]])\n",
    "y_train = torch.tensor([0, 1, 2, 3])  # 클래스 레이블 (0, 1, 2, 3)\n",
    "\n",
    "# 모델 정의\n",
    "class SoftmaxClassifier(nn.Module):\n",
    "    def __init__(self, input_dim, output_dim):\n",
    "        super(SoftmaxClassifier, self).__init__()\n",
    "        self.linear = nn.Linear(input_dim, output_dim)  # 입력과 출력 연결\n",
    "\n",
    "    def forward(self, x):\n",
    "        return self.linear(x)\n",
    "\n",
    "model = SoftmaxClassifier(input_dim=2, output_dim=4)\n",
    "\n",
    "# 손실 함수와 옵티마이저 정의\n",
    "criterion = nn.CrossEntropyLoss()  # 내부적으로 Softmax 포함\n",
    "optimizer = optim.Adam(model.parameters(), lr=0.01)  # Adam Optimizer 사용\n",
    "\n",
    "# 학습 반복 (Epoch Loop)\n",
    "epochs = 500\n",
    "for epoch in range(epochs):\n",
    "    # Forward Propagation\n",
    "    output = model(x_train)\n",
    "\n",
    "    # 손실 계산\n",
    "    loss = criterion(output, y_train)\n",
    "\n",
    "    # Gradient 초기화, Backpropagation, 가중치 업데이트\n",
    "    optimizer.zero_grad()\n",
    "    loss.backward()\n",
    "    optimizer.step()\n",
    "\n",
    "    # 중간 결과 출력\n",
    "    if epoch % 50 == 0:\n",
    "        print(f\"Epoch [{epoch}/{epochs}], Loss: {loss.item():.4f}\")\n",
    "\n",
    "# 테스트\n",
    "test_input = torch.tensor([[1.0, 0.0]])  # 새로운 데이터 예측\n",
    "test_output = model(test_input)\n",
    "predicted_class = torch.argmax(test_output, dim=1)\n",
    "print(f\"Predicted class for {test_input}: {predicted_class.item()}\")\n"
   ]
  },
  {
   "cell_type": "code",
   "execution_count": 10,
   "metadata": {},
   "outputs": [
    {
     "data": {
      "image/png": "[encoded data removed]",
      "text/plain": [
       "<Figure size 640x480 with 1 Axes>"
      ]
     },
     "metadata": {},
     "output_type": "display_data"
    }
   ],
   "source": [
    "import matplotlib.pyplot as plt\n",
    "from sklearn.cluster import KMeans\n",
    "import numpy as np\n",
    "\n",
    "# 데이터 포인트 정의\n",
    "data = np.array([[1, 2], [2, 1], [4, 5], [5, 4], [8, 8], [9, 9]])\n",
    "\n",
    "# WCSS 저장 리스트\n",
    "wcss = []\n",
    "\n",
    "# 다양한 K 값에 대해 K-Means 수행 (데이터 포인트 개수를 초과하지 않도록 설정)\n",
    "for k in range(1, len(data) + 1):\n",
    "    kmeans = KMeans(n_clusters=k, init='k-means++', max_iter=300, n_init=10, random_state=42)\n",
    "    kmeans.fit(data)\n",
    "    wcss.append(kmeans.inertia_)\n",
    "\n",
    "# 엘보우 방법을 위한 그래프 그리기\n",
    "plt.plot(range(1, len(data) + 1), wcss)\n",
    "plt.title('elbow')\n",
    "plt.xlabel('K')\n",
    "plt.ylabel('WCSS (Within-Cluster Sum of Squares)')\n",
    "plt.show()\n"
   ]
  },
  {
   "cell_type": "code",
   "execution_count": 11,
   "metadata": {},
   "outputs": [],
   "source": [
    "import numpy as np\n",
    "\n",
    "X = []\n",
    "Y = []\n",
    "for line in open(\"iris.data\", \"r\"):\n",
    "    line = line.rstrip()\n",
    "    if line == \"\": continue\n",
    "\n",
    "    *x, y = line.split(\",\")\n",
    "    x = [float(i) for i in x]\n",
    "    X.append(x)\n",
    "    Y.append(y)\n",
    "    \n",
    "\n",
    "labels = list(set(Y))\n",
    "Y = [labels.index(y) for y in Y]\n",
    "\n",
    "X = np.array(X)\n",
    "Y = np.array(Y)"
   ]
  },
  {
   "cell_type": "code",
   "execution_count": 12,
   "metadata": {},
   "outputs": [],
   "source": [
    "class KNNClassifier:\n",
    "    def __init__(self, k):\n",
    "        self.k = k\n",
    "\n",
    "    def fit(self, X, Y):\n",
    "        self.X = X\n",
    "        self.Y = Y\n",
    "\n",
    "    def predict(self, queries):\n",
    "        Y = []\n",
    "        for q in queries:\n",
    "            dists = np.linalg.norm(self.X - q, axis = 1)\n",
    "            knns= np.argsort(dists)[:self.k]\n",
    "            counts = np.bincount(self.Y[knns])\n",
    "            Y.append(np.argmax(counts))\n",
    "\n",
    "        return np.array(Y)"
   ]
  },
  {
   "cell_type": "code",
   "execution_count": 13,
   "metadata": {},
   "outputs": [
    {
     "name": "stdout",
     "output_type": "stream",
     "text": [
      "Train accuracy: 0.9583333333333334\n",
      "Test accuracy: 1.0\n"
     ]
    }
   ],
   "source": [
    "perm = np.random.permutation(len(X))\n",
    "n_trains = int(len(X) * 0.8)\n",
    "X_train = X[perm[:n_trains]]\n",
    "Y_train = Y[perm[:n_trains]]\n",
    "X_test = X[perm[n_trains:]]\n",
    "Y_test = Y[perm[n_trains:]]\n",
    "\n",
    "knn = KNNClassifier(5)\n",
    "knn.fit(X_train, Y_train)\n",
    "\n",
    "pred_train = knn.predict(X_train)\n",
    "pred_test = knn.predict(X_test)\n",
    "\n",
    "print(\"Train accuracy:\", (pred_train == Y_train).mean())\n",
    "print(\"Test accuracy:\", (pred_test == Y_test).mean())"
   ]
  }
 ],
 "metadata": {
  "kernelspec": {
   "display_name": "myvenv",
   "language": "python",
   "name": "python3"
  },
  "language_info": {
   "codemirror_mode": {
    "name": "ipython",
    "version": 3
   },
   "file_extension": ".py",
   "mimetype": "text/x-python",
   "name": "python",
   "nbconvert_exporter": "python",
   "pygments_lexer": "ipython3",
   "version": "3.12.3"
  }
 },
 "nbformat": 4,
 "nbformat_minor": 2
}
